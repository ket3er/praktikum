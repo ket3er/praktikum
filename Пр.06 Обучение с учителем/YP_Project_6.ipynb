{
 "cells": [
  {
   "cell_type": "markdown",
   "metadata": {},
   "source": [
    "# Прогнозирование оттока клиентов"
   ]
  },
  {
   "cell_type": "markdown",
   "metadata": {},
   "source": [
    "## Описание проекта\n",
    "Нужно спрогнозировать, уйдёт клиент из банка в ближайшее время или нет. Предоставлены исторические данные о клиентах и  расторжении договоров с банком. "
   ]
  },
  {
   "cell_type": "markdown",
   "metadata": {},
   "source": [
    "## План работ\n",
    "1. Загрузить и подготовить данные. Пояснить порядок действий.\n",
    "2. Исследовать баланс классов, обучить модель без учёта дисбаланса. Кратко описать выводы.\n",
    "3. Улучшить качество модели, учитывая дисбаланс классов. Обучить разные модели и найти лучшую. Кратко описать выводы.\n",
    "4. Провести финальное тестирование."
   ]
  },
  {
   "cell_type": "markdown",
   "metadata": {},
   "source": [
    "## Описание данных\n",
    "\n",
    "### Признаки\n",
    "*RowNumber* — индекс строки в данных\n",
    "\n",
    "*CustomerId* — уникальный идентификатор клиента\n",
    "\n",
    "*Surname* — фамилия\n",
    "\n",
    "*CreditScore* — кредитный рейтинг\n",
    "\n",
    "*Geography* — страна проживания\n",
    "\n",
    "*Gender* — пол\n",
    "\n",
    "*Age* — возраст\n",
    "\n",
    "*Tenure* — количество недвижимости у клиента\n",
    "\n",
    "*Balance* — баланс на счёте\n",
    "\n",
    "*NumOfProducts* — количество продуктов банка, используемых клиентом\n",
    "\n",
    "*HasCrCard* — наличие кредитной карты\n",
    "\n",
    "*IsActiveMember* — активность клиента\n",
    "\n",
    "*EstimatedSalary* — предполагаемая зарплата\n",
    "\n",
    "### Целевой признак\n",
    "*Exited* — факт ухода клиента"
   ]
  },
  {
   "cell_type": "markdown",
   "metadata": {},
   "source": [
    "---\n",
    "# 1. Подготовка данных"
   ]
  },
  {
   "cell_type": "code",
   "execution_count": 1,
   "metadata": {},
   "outputs": [],
   "source": [
    "# Импорт библиотек\n",
    "import numpy as np\n",
    "import pandas as pd\n",
    "import matplotlib.pyplot as plt\n",
    "from sklearn.preprocessing import OrdinalEncoder, StandardScaler\n",
    "from sklearn.model_selection import train_test_split\n",
    "from sklearn.metrics import confusion_matrix, accuracy_score, recall_score, precision_score,  f1_score,  roc_auc_score,  precision_recall_curve, roc_curve\n",
    "from sklearn.utils import shuffle\n",
    "from sklearn.linear_model import LogisticRegression\n",
    "from sklearn.tree import DecisionTreeClassifier\n",
    "from sklearn.ensemble import RandomForestClassifier\n"
   ]
  },
  {
   "cell_type": "code",
   "execution_count": 2,
   "metadata": {},
   "outputs": [],
   "source": [
    "# Чтение датасета\n",
    "data_churn = pd.read_csv('/datasets/Churn.csv')"
   ]
  },
  {
   "cell_type": "code",
   "execution_count": 3,
   "metadata": {},
   "outputs": [
    {
     "name": "stdout",
     "output_type": "stream",
     "text": [
      "<class 'pandas.core.frame.DataFrame'>\n",
      "RangeIndex: 10000 entries, 0 to 9999\n",
      "Data columns (total 14 columns):\n",
      "RowNumber          10000 non-null int64\n",
      "CustomerId         10000 non-null int64\n",
      "Surname            10000 non-null object\n",
      "CreditScore        10000 non-null int64\n",
      "Geography          10000 non-null object\n",
      "Gender             10000 non-null object\n",
      "Age                10000 non-null int64\n",
      "Tenure             9091 non-null float64\n",
      "Balance            10000 non-null float64\n",
      "NumOfProducts      10000 non-null int64\n",
      "HasCrCard          10000 non-null int64\n",
      "IsActiveMember     10000 non-null int64\n",
      "EstimatedSalary    10000 non-null float64\n",
      "Exited             10000 non-null int64\n",
      "dtypes: float64(3), int64(8), object(3)\n",
      "memory usage: 1.1+ MB\n"
     ]
    }
   ],
   "source": [
    "# Изучаем данные\n",
    "data_churn.info()"
   ]
  },
  {
   "cell_type": "code",
   "execution_count": 4,
   "metadata": {},
   "outputs": [
    {
     "data": {
      "text/html": [
       "<div>\n",
       "<style scoped>\n",
       "    .dataframe tbody tr th:only-of-type {\n",
       "        vertical-align: middle;\n",
       "    }\n",
       "\n",
       "    .dataframe tbody tr th {\n",
       "        vertical-align: top;\n",
       "    }\n",
       "\n",
       "    .dataframe thead th {\n",
       "        text-align: right;\n",
       "    }\n",
       "</style>\n",
       "<table border=\"1\" class=\"dataframe\">\n",
       "  <thead>\n",
       "    <tr style=\"text-align: right;\">\n",
       "      <th></th>\n",
       "      <th>RowNumber</th>\n",
       "      <th>CustomerId</th>\n",
       "      <th>CreditScore</th>\n",
       "      <th>Age</th>\n",
       "      <th>Tenure</th>\n",
       "      <th>Balance</th>\n",
       "      <th>NumOfProducts</th>\n",
       "      <th>HasCrCard</th>\n",
       "      <th>IsActiveMember</th>\n",
       "      <th>EstimatedSalary</th>\n",
       "      <th>Exited</th>\n",
       "    </tr>\n",
       "  </thead>\n",
       "  <tbody>\n",
       "    <tr>\n",
       "      <td>count</td>\n",
       "      <td>10000.00000</td>\n",
       "      <td>1.000000e+04</td>\n",
       "      <td>10000.000000</td>\n",
       "      <td>10000.000000</td>\n",
       "      <td>9091.000000</td>\n",
       "      <td>10000.000000</td>\n",
       "      <td>10000.000000</td>\n",
       "      <td>10000.00000</td>\n",
       "      <td>10000.000000</td>\n",
       "      <td>10000.000000</td>\n",
       "      <td>10000.000000</td>\n",
       "    </tr>\n",
       "    <tr>\n",
       "      <td>mean</td>\n",
       "      <td>5000.50000</td>\n",
       "      <td>1.569094e+07</td>\n",
       "      <td>650.528800</td>\n",
       "      <td>38.921800</td>\n",
       "      <td>4.997690</td>\n",
       "      <td>76485.889288</td>\n",
       "      <td>1.530200</td>\n",
       "      <td>0.70550</td>\n",
       "      <td>0.515100</td>\n",
       "      <td>100090.239881</td>\n",
       "      <td>0.203700</td>\n",
       "    </tr>\n",
       "    <tr>\n",
       "      <td>std</td>\n",
       "      <td>2886.89568</td>\n",
       "      <td>7.193619e+04</td>\n",
       "      <td>96.653299</td>\n",
       "      <td>10.487806</td>\n",
       "      <td>2.894723</td>\n",
       "      <td>62397.405202</td>\n",
       "      <td>0.581654</td>\n",
       "      <td>0.45584</td>\n",
       "      <td>0.499797</td>\n",
       "      <td>57510.492818</td>\n",
       "      <td>0.402769</td>\n",
       "    </tr>\n",
       "    <tr>\n",
       "      <td>min</td>\n",
       "      <td>1.00000</td>\n",
       "      <td>1.556570e+07</td>\n",
       "      <td>350.000000</td>\n",
       "      <td>18.000000</td>\n",
       "      <td>0.000000</td>\n",
       "      <td>0.000000</td>\n",
       "      <td>1.000000</td>\n",
       "      <td>0.00000</td>\n",
       "      <td>0.000000</td>\n",
       "      <td>11.580000</td>\n",
       "      <td>0.000000</td>\n",
       "    </tr>\n",
       "    <tr>\n",
       "      <td>25%</td>\n",
       "      <td>2500.75000</td>\n",
       "      <td>1.562853e+07</td>\n",
       "      <td>584.000000</td>\n",
       "      <td>32.000000</td>\n",
       "      <td>2.000000</td>\n",
       "      <td>0.000000</td>\n",
       "      <td>1.000000</td>\n",
       "      <td>0.00000</td>\n",
       "      <td>0.000000</td>\n",
       "      <td>51002.110000</td>\n",
       "      <td>0.000000</td>\n",
       "    </tr>\n",
       "    <tr>\n",
       "      <td>50%</td>\n",
       "      <td>5000.50000</td>\n",
       "      <td>1.569074e+07</td>\n",
       "      <td>652.000000</td>\n",
       "      <td>37.000000</td>\n",
       "      <td>5.000000</td>\n",
       "      <td>97198.540000</td>\n",
       "      <td>1.000000</td>\n",
       "      <td>1.00000</td>\n",
       "      <td>1.000000</td>\n",
       "      <td>100193.915000</td>\n",
       "      <td>0.000000</td>\n",
       "    </tr>\n",
       "    <tr>\n",
       "      <td>75%</td>\n",
       "      <td>7500.25000</td>\n",
       "      <td>1.575323e+07</td>\n",
       "      <td>718.000000</td>\n",
       "      <td>44.000000</td>\n",
       "      <td>7.000000</td>\n",
       "      <td>127644.240000</td>\n",
       "      <td>2.000000</td>\n",
       "      <td>1.00000</td>\n",
       "      <td>1.000000</td>\n",
       "      <td>149388.247500</td>\n",
       "      <td>0.000000</td>\n",
       "    </tr>\n",
       "    <tr>\n",
       "      <td>max</td>\n",
       "      <td>10000.00000</td>\n",
       "      <td>1.581569e+07</td>\n",
       "      <td>850.000000</td>\n",
       "      <td>92.000000</td>\n",
       "      <td>10.000000</td>\n",
       "      <td>250898.090000</td>\n",
       "      <td>4.000000</td>\n",
       "      <td>1.00000</td>\n",
       "      <td>1.000000</td>\n",
       "      <td>199992.480000</td>\n",
       "      <td>1.000000</td>\n",
       "    </tr>\n",
       "  </tbody>\n",
       "</table>\n",
       "</div>"
      ],
      "text/plain": [
       "         RowNumber    CustomerId   CreditScore           Age       Tenure  \\\n",
       "count  10000.00000  1.000000e+04  10000.000000  10000.000000  9091.000000   \n",
       "mean    5000.50000  1.569094e+07    650.528800     38.921800     4.997690   \n",
       "std     2886.89568  7.193619e+04     96.653299     10.487806     2.894723   \n",
       "min        1.00000  1.556570e+07    350.000000     18.000000     0.000000   \n",
       "25%     2500.75000  1.562853e+07    584.000000     32.000000     2.000000   \n",
       "50%     5000.50000  1.569074e+07    652.000000     37.000000     5.000000   \n",
       "75%     7500.25000  1.575323e+07    718.000000     44.000000     7.000000   \n",
       "max    10000.00000  1.581569e+07    850.000000     92.000000    10.000000   \n",
       "\n",
       "             Balance  NumOfProducts    HasCrCard  IsActiveMember  \\\n",
       "count   10000.000000   10000.000000  10000.00000    10000.000000   \n",
       "mean    76485.889288       1.530200      0.70550        0.515100   \n",
       "std     62397.405202       0.581654      0.45584        0.499797   \n",
       "min         0.000000       1.000000      0.00000        0.000000   \n",
       "25%         0.000000       1.000000      0.00000        0.000000   \n",
       "50%     97198.540000       1.000000      1.00000        1.000000   \n",
       "75%    127644.240000       2.000000      1.00000        1.000000   \n",
       "max    250898.090000       4.000000      1.00000        1.000000   \n",
       "\n",
       "       EstimatedSalary        Exited  \n",
       "count     10000.000000  10000.000000  \n",
       "mean     100090.239881      0.203700  \n",
       "std       57510.492818      0.402769  \n",
       "min          11.580000      0.000000  \n",
       "25%       51002.110000      0.000000  \n",
       "50%      100193.915000      0.000000  \n",
       "75%      149388.247500      0.000000  \n",
       "max      199992.480000      1.000000  "
      ]
     },
     "execution_count": 4,
     "metadata": {},
     "output_type": "execute_result"
    }
   ],
   "source": [
    "data_churn.describe()"
   ]
  },
  {
   "cell_type": "code",
   "execution_count": 5,
   "metadata": {},
   "outputs": [
    {
     "data": {
      "text/html": [
       "<div>\n",
       "<style scoped>\n",
       "    .dataframe tbody tr th:only-of-type {\n",
       "        vertical-align: middle;\n",
       "    }\n",
       "\n",
       "    .dataframe tbody tr th {\n",
       "        vertical-align: top;\n",
       "    }\n",
       "\n",
       "    .dataframe thead th {\n",
       "        text-align: right;\n",
       "    }\n",
       "</style>\n",
       "<table border=\"1\" class=\"dataframe\">\n",
       "  <thead>\n",
       "    <tr style=\"text-align: right;\">\n",
       "      <th></th>\n",
       "      <th>RowNumber</th>\n",
       "      <th>CustomerId</th>\n",
       "      <th>Surname</th>\n",
       "      <th>CreditScore</th>\n",
       "      <th>Geography</th>\n",
       "      <th>Gender</th>\n",
       "      <th>Age</th>\n",
       "      <th>Tenure</th>\n",
       "      <th>Balance</th>\n",
       "      <th>NumOfProducts</th>\n",
       "      <th>HasCrCard</th>\n",
       "      <th>IsActiveMember</th>\n",
       "      <th>EstimatedSalary</th>\n",
       "      <th>Exited</th>\n",
       "    </tr>\n",
       "  </thead>\n",
       "  <tbody>\n",
       "    <tr>\n",
       "      <td>0</td>\n",
       "      <td>1</td>\n",
       "      <td>15634602</td>\n",
       "      <td>Hargrave</td>\n",
       "      <td>619</td>\n",
       "      <td>France</td>\n",
       "      <td>Female</td>\n",
       "      <td>42</td>\n",
       "      <td>2.0</td>\n",
       "      <td>0.00</td>\n",
       "      <td>1</td>\n",
       "      <td>1</td>\n",
       "      <td>1</td>\n",
       "      <td>101348.88</td>\n",
       "      <td>1</td>\n",
       "    </tr>\n",
       "    <tr>\n",
       "      <td>1</td>\n",
       "      <td>2</td>\n",
       "      <td>15647311</td>\n",
       "      <td>Hill</td>\n",
       "      <td>608</td>\n",
       "      <td>Spain</td>\n",
       "      <td>Female</td>\n",
       "      <td>41</td>\n",
       "      <td>1.0</td>\n",
       "      <td>83807.86</td>\n",
       "      <td>1</td>\n",
       "      <td>0</td>\n",
       "      <td>1</td>\n",
       "      <td>112542.58</td>\n",
       "      <td>0</td>\n",
       "    </tr>\n",
       "    <tr>\n",
       "      <td>2</td>\n",
       "      <td>3</td>\n",
       "      <td>15619304</td>\n",
       "      <td>Onio</td>\n",
       "      <td>502</td>\n",
       "      <td>France</td>\n",
       "      <td>Female</td>\n",
       "      <td>42</td>\n",
       "      <td>8.0</td>\n",
       "      <td>159660.80</td>\n",
       "      <td>3</td>\n",
       "      <td>1</td>\n",
       "      <td>0</td>\n",
       "      <td>113931.57</td>\n",
       "      <td>1</td>\n",
       "    </tr>\n",
       "    <tr>\n",
       "      <td>3</td>\n",
       "      <td>4</td>\n",
       "      <td>15701354</td>\n",
       "      <td>Boni</td>\n",
       "      <td>699</td>\n",
       "      <td>France</td>\n",
       "      <td>Female</td>\n",
       "      <td>39</td>\n",
       "      <td>1.0</td>\n",
       "      <td>0.00</td>\n",
       "      <td>2</td>\n",
       "      <td>0</td>\n",
       "      <td>0</td>\n",
       "      <td>93826.63</td>\n",
       "      <td>0</td>\n",
       "    </tr>\n",
       "    <tr>\n",
       "      <td>4</td>\n",
       "      <td>5</td>\n",
       "      <td>15737888</td>\n",
       "      <td>Mitchell</td>\n",
       "      <td>850</td>\n",
       "      <td>Spain</td>\n",
       "      <td>Female</td>\n",
       "      <td>43</td>\n",
       "      <td>2.0</td>\n",
       "      <td>125510.82</td>\n",
       "      <td>1</td>\n",
       "      <td>1</td>\n",
       "      <td>1</td>\n",
       "      <td>79084.10</td>\n",
       "      <td>0</td>\n",
       "    </tr>\n",
       "  </tbody>\n",
       "</table>\n",
       "</div>"
      ],
      "text/plain": [
       "   RowNumber  CustomerId   Surname  CreditScore Geography  Gender  Age  \\\n",
       "0          1    15634602  Hargrave          619    France  Female   42   \n",
       "1          2    15647311      Hill          608     Spain  Female   41   \n",
       "2          3    15619304      Onio          502    France  Female   42   \n",
       "3          4    15701354      Boni          699    France  Female   39   \n",
       "4          5    15737888  Mitchell          850     Spain  Female   43   \n",
       "\n",
       "   Tenure    Balance  NumOfProducts  HasCrCard  IsActiveMember  \\\n",
       "0     2.0       0.00              1          1               1   \n",
       "1     1.0   83807.86              1          0               1   \n",
       "2     8.0  159660.80              3          1               0   \n",
       "3     1.0       0.00              2          0               0   \n",
       "4     2.0  125510.82              1          1               1   \n",
       "\n",
       "   EstimatedSalary  Exited  \n",
       "0        101348.88       1  \n",
       "1        112542.58       0  \n",
       "2        113931.57       1  \n",
       "3         93826.63       0  \n",
       "4         79084.10       0  "
      ]
     },
     "execution_count": 5,
     "metadata": {},
     "output_type": "execute_result"
    }
   ],
   "source": [
    "data_churn.head()"
   ]
  },
  {
   "cell_type": "code",
   "execution_count": 6,
   "metadata": {},
   "outputs": [
    {
     "data": {
      "text/plain": [
       "0    7963\n",
       "1    2037\n",
       "Name: Exited, dtype: int64"
      ]
     },
     "execution_count": 6,
     "metadata": {},
     "output_type": "execute_result"
    }
   ],
   "source": [
    "data_churn['Exited'].value_counts()"
   ]
  },
  {
   "cell_type": "code",
   "execution_count": 7,
   "metadata": {},
   "outputs": [
    {
     "data": {
      "text/plain": [
       "France     5014\n",
       "Germany    2509\n",
       "Spain      2477\n",
       "Name: Geography, dtype: int64"
      ]
     },
     "execution_count": 7,
     "metadata": {},
     "output_type": "execute_result"
    }
   ],
   "source": [
    "data_churn['Geography'].value_counts()"
   ]
  },
  {
   "cell_type": "code",
   "execution_count": 8,
   "metadata": {},
   "outputs": [
    {
     "data": {
      "text/plain": [
       "Male      5457\n",
       "Female    4543\n",
       "Name: Gender, dtype: int64"
      ]
     },
     "execution_count": 8,
     "metadata": {},
     "output_type": "execute_result"
    }
   ],
   "source": [
    "data_churn['Gender'].value_counts()"
   ]
  },
  {
   "cell_type": "code",
   "execution_count": 9,
   "metadata": {},
   "outputs": [
    {
     "data": {
      "text/plain": [
       "37    478\n",
       "38    477\n",
       "35    474\n",
       "36    456\n",
       "34    447\n",
       "     ... \n",
       "92      2\n",
       "88      1\n",
       "82      1\n",
       "85      1\n",
       "83      1\n",
       "Name: Age, Length: 70, dtype: int64"
      ]
     },
     "execution_count": 9,
     "metadata": {},
     "output_type": "execute_result"
    }
   ],
   "source": [
    "data_churn['Age'].value_counts()"
   ]
  },
  {
   "cell_type": "code",
   "execution_count": 10,
   "metadata": {},
   "outputs": [
    {
     "data": {
      "text/plain": [
       "1.0     952\n",
       "2.0     950\n",
       "8.0     933\n",
       "3.0     928\n",
       "5.0     927\n",
       "7.0     925\n",
       "4.0     885\n",
       "9.0     882\n",
       "6.0     881\n",
       "10.0    446\n",
       "0.0     382\n",
       "Name: Tenure, dtype: int64"
      ]
     },
     "execution_count": 10,
     "metadata": {},
     "output_type": "execute_result"
    }
   ],
   "source": [
    "data_churn['Tenure'].value_counts()"
   ]
  },
  {
   "cell_type": "code",
   "execution_count": 11,
   "metadata": {},
   "outputs": [
    {
     "data": {
      "text/plain": [
       "<matplotlib.axes._subplots.AxesSubplot at 0x7f598c6f5710>"
      ]
     },
     "execution_count": 11,
     "metadata": {},
     "output_type": "execute_result"
    },
    {
     "data": {
      "image/png": "[encoded data removed]",
      "text/plain": [
       "<Figure size 432x288 with 1 Axes>"
      ]
     },
     "metadata": {
      "needs_background": "light"
     },
     "output_type": "display_data"
    }
   ],
   "source": [
    "data_churn['EstimatedSalary'].hist()"
   ]
  },
  {
   "cell_type": "code",
   "execution_count": 12,
   "metadata": {},
   "outputs": [],
   "source": [
    "# Удаляем ненужные столбцы RowNumber и Surname\n",
    "data_churn_wt = data_churn.drop(columns=['RowNumber', 'Surname']) #,'Geography'])"
   ]
  },
  {
   "cell_type": "code",
   "execution_count": 13,
   "metadata": {},
   "outputs": [],
   "source": [
    "# Пропуски в столбце Tenure (количество недвижки) заменим на 0\n",
    "#data_churn_wt['Tenure'] = data_churn_wt['Tenure'].fillna(0)"
   ]
  },
  {
   "cell_type": "code",
   "execution_count": 14,
   "metadata": {},
   "outputs": [],
   "source": [
    "# По рекомендации ревьювера из датасета убрал объекты с пропусками в столбце Tenure (количество недвижки)\n",
    "#Метрики F1 и AUC-ROC после этого показали при тестировании модели более высокие значения\n",
    "data_churn_wt = data_churn_wt.dropna(subset = ['Tenure'])"
   ]
  },
  {
   "cell_type": "code",
   "execution_count": 15,
   "metadata": {},
   "outputs": [
    {
     "name": "stdout",
     "output_type": "stream",
     "text": [
      "<class 'pandas.core.frame.DataFrame'>\n",
      "Int64Index: 9091 entries, 0 to 9998\n",
      "Data columns (total 12 columns):\n",
      "CustomerId         9091 non-null int64\n",
      "CreditScore        9091 non-null int64\n",
      "Geography          9091 non-null object\n",
      "Gender             9091 non-null object\n",
      "Age                9091 non-null int64\n",
      "Tenure             9091 non-null float64\n",
      "Balance            9091 non-null float64\n",
      "NumOfProducts      9091 non-null int64\n",
      "HasCrCard          9091 non-null int64\n",
      "IsActiveMember     9091 non-null int64\n",
      "EstimatedSalary    9091 non-null float64\n",
      "Exited             9091 non-null int64\n",
      "dtypes: float64(3), int64(7), object(2)\n",
      "memory usage: 923.3+ KB\n"
     ]
    }
   ],
   "source": [
    "data_churn_wt.info()"
   ]
  },
  {
   "cell_type": "code",
   "execution_count": 16,
   "metadata": {},
   "outputs": [
    {
     "data": {
      "text/plain": [
       "<matplotlib.axes._subplots.AxesSubplot at 0x7f598a642c10>"
      ]
     },
     "execution_count": 16,
     "metadata": {},
     "output_type": "execute_result"
    },
    {
     "data": {
      "image/png": "[encoded data removed]",
      "text/plain": [
       "<Figure size 432x288 with 1 Axes>"
      ]
     },
     "metadata": {
      "needs_background": "light"
     },
     "output_type": "display_data"
    }
   ],
   "source": [
    "data_churn_wt['Tenure'].hist()"
   ]
  },
  {
   "cell_type": "code",
   "execution_count": 17,
   "metadata": {},
   "outputs": [],
   "source": [
    "# Переводим признак Gender из категорийных в численные техникой OHE\n",
    "data_churn_wt = pd.get_dummies(data_churn_wt, columns = ['Gender'], drop_first=True)"
   ]
  },
  {
   "cell_type": "code",
   "execution_count": 18,
   "metadata": {},
   "outputs": [],
   "source": [
    "# Переводим признак Geography из категорийных в численные техникой OE - нет, не годится для логистической регрессии\n",
    "#Geo = [['France', 0], ['Germany', 1], ['Spain', 2]]\n",
    "#encoder = OrdinalEncoder()\n",
    "#data_churn_wt = pd.DataFrame(encoder.fit_transform(data_churn_wt,Geo), columns=data_churn_wt.columns)"
   ]
  },
  {
   "cell_type": "code",
   "execution_count": 19,
   "metadata": {},
   "outputs": [],
   "source": [
    "# Переводим признак Geography из категорийных в численные техникой OHE\n",
    "data_churn_wt = pd.get_dummies(data_churn_wt, columns = ['Geography'])"
   ]
  },
  {
   "cell_type": "code",
   "execution_count": 20,
   "metadata": {},
   "outputs": [],
   "source": [
    "# Столбец CustomerId делаем индексом\n",
    "data_churn_wt_id = data_churn_wt.set_index('CustomerId')\n",
    "data_churn_wt_id.index.name = None"
   ]
  },
  {
   "cell_type": "code",
   "execution_count": 21,
   "metadata": {},
   "outputs": [],
   "source": [
    "# Разделяем признаки и целевой признак\n",
    "target = data_churn_wt_id['Exited']\n",
    "features = data_churn_wt_id.drop('Exited', axis=1)"
   ]
  },
  {
   "cell_type": "code",
   "execution_count": 22,
   "metadata": {},
   "outputs": [
    {
     "data": {
      "text/html": [
       "<div>\n",
       "<style scoped>\n",
       "    .dataframe tbody tr th:only-of-type {\n",
       "        vertical-align: middle;\n",
       "    }\n",
       "\n",
       "    .dataframe tbody tr th {\n",
       "        vertical-align: top;\n",
       "    }\n",
       "\n",
       "    .dataframe thead th {\n",
       "        text-align: right;\n",
       "    }\n",
       "</style>\n",
       "<table border=\"1\" class=\"dataframe\">\n",
       "  <thead>\n",
       "    <tr style=\"text-align: right;\">\n",
       "      <th></th>\n",
       "      <th>CreditScore</th>\n",
       "      <th>Age</th>\n",
       "      <th>Tenure</th>\n",
       "      <th>Balance</th>\n",
       "      <th>NumOfProducts</th>\n",
       "      <th>HasCrCard</th>\n",
       "      <th>IsActiveMember</th>\n",
       "      <th>EstimatedSalary</th>\n",
       "      <th>Gender_Male</th>\n",
       "      <th>Geography_France</th>\n",
       "      <th>Geography_Germany</th>\n",
       "      <th>Geography_Spain</th>\n",
       "    </tr>\n",
       "  </thead>\n",
       "  <tbody>\n",
       "    <tr>\n",
       "      <td>15634602</td>\n",
       "      <td>619</td>\n",
       "      <td>42</td>\n",
       "      <td>2.0</td>\n",
       "      <td>0.00</td>\n",
       "      <td>1</td>\n",
       "      <td>1</td>\n",
       "      <td>1</td>\n",
       "      <td>101348.88</td>\n",
       "      <td>0</td>\n",
       "      <td>1</td>\n",
       "      <td>0</td>\n",
       "      <td>0</td>\n",
       "    </tr>\n",
       "    <tr>\n",
       "      <td>15647311</td>\n",
       "      <td>608</td>\n",
       "      <td>41</td>\n",
       "      <td>1.0</td>\n",
       "      <td>83807.86</td>\n",
       "      <td>1</td>\n",
       "      <td>0</td>\n",
       "      <td>1</td>\n",
       "      <td>112542.58</td>\n",
       "      <td>0</td>\n",
       "      <td>0</td>\n",
       "      <td>0</td>\n",
       "      <td>1</td>\n",
       "    </tr>\n",
       "    <tr>\n",
       "      <td>15619304</td>\n",
       "      <td>502</td>\n",
       "      <td>42</td>\n",
       "      <td>8.0</td>\n",
       "      <td>159660.80</td>\n",
       "      <td>3</td>\n",
       "      <td>1</td>\n",
       "      <td>0</td>\n",
       "      <td>113931.57</td>\n",
       "      <td>0</td>\n",
       "      <td>1</td>\n",
       "      <td>0</td>\n",
       "      <td>0</td>\n",
       "    </tr>\n",
       "    <tr>\n",
       "      <td>15701354</td>\n",
       "      <td>699</td>\n",
       "      <td>39</td>\n",
       "      <td>1.0</td>\n",
       "      <td>0.00</td>\n",
       "      <td>2</td>\n",
       "      <td>0</td>\n",
       "      <td>0</td>\n",
       "      <td>93826.63</td>\n",
       "      <td>0</td>\n",
       "      <td>1</td>\n",
       "      <td>0</td>\n",
       "      <td>0</td>\n",
       "    </tr>\n",
       "    <tr>\n",
       "      <td>15737888</td>\n",
       "      <td>850</td>\n",
       "      <td>43</td>\n",
       "      <td>2.0</td>\n",
       "      <td>125510.82</td>\n",
       "      <td>1</td>\n",
       "      <td>1</td>\n",
       "      <td>1</td>\n",
       "      <td>79084.10</td>\n",
       "      <td>0</td>\n",
       "      <td>0</td>\n",
       "      <td>0</td>\n",
       "      <td>1</td>\n",
       "    </tr>\n",
       "  </tbody>\n",
       "</table>\n",
       "</div>"
      ],
      "text/plain": [
       "          CreditScore  Age  Tenure    Balance  NumOfProducts  HasCrCard  \\\n",
       "15634602          619   42     2.0       0.00              1          1   \n",
       "15647311          608   41     1.0   83807.86              1          0   \n",
       "15619304          502   42     8.0  159660.80              3          1   \n",
       "15701354          699   39     1.0       0.00              2          0   \n",
       "15737888          850   43     2.0  125510.82              1          1   \n",
       "\n",
       "          IsActiveMember  EstimatedSalary  Gender_Male  Geography_France  \\\n",
       "15634602               1        101348.88            0                 1   \n",
       "15647311               1        112542.58            0                 0   \n",
       "15619304               0        113931.57            0                 1   \n",
       "15701354               0         93826.63            0                 1   \n",
       "15737888               1         79084.10            0                 0   \n",
       "\n",
       "          Geography_Germany  Geography_Spain  \n",
       "15634602                  0                0  \n",
       "15647311                  0                1  \n",
       "15619304                  0                0  \n",
       "15701354                  0                0  \n",
       "15737888                  0                1  "
      ]
     },
     "execution_count": 22,
     "metadata": {},
     "output_type": "execute_result"
    }
   ],
   "source": [
    "features.head()"
   ]
  },
  {
   "cell_type": "code",
   "execution_count": 23,
   "metadata": {},
   "outputs": [
    {
     "data": {
      "text/plain": [
       "15634602    1\n",
       "15647311    0\n",
       "15619304    1\n",
       "15701354    0\n",
       "15737888    0\n",
       "Name: Exited, dtype: int64"
      ]
     },
     "execution_count": 23,
     "metadata": {},
     "output_type": "execute_result"
    }
   ],
   "source": [
    "target.head()"
   ]
  },
  {
   "cell_type": "code",
   "execution_count": 24,
   "metadata": {},
   "outputs": [],
   "source": [
    "# Разбиваем датасет на выборки (обучающую, проверочную, тестовую)\n",
    "features_train, features_VT, target_train, target_VT = train_test_split(features, target, test_size=0.4, random_state=12345)\n",
    "features_valid, features_test, target_valid, target_test = train_test_split(features_VT, target_VT, test_size=0.5, random_state=12345)"
   ]
  },
  {
   "cell_type": "code",
   "execution_count": 25,
   "metadata": {},
   "outputs": [
    {
     "data": {
      "text/html": [
       "<div>\n",
       "<style scoped>\n",
       "    .dataframe tbody tr th:only-of-type {\n",
       "        vertical-align: middle;\n",
       "    }\n",
       "\n",
       "    .dataframe tbody tr th {\n",
       "        vertical-align: top;\n",
       "    }\n",
       "\n",
       "    .dataframe thead th {\n",
       "        text-align: right;\n",
       "    }\n",
       "</style>\n",
       "<table border=\"1\" class=\"dataframe\">\n",
       "  <thead>\n",
       "    <tr style=\"text-align: right;\">\n",
       "      <th></th>\n",
       "      <th>CreditScore</th>\n",
       "      <th>Age</th>\n",
       "      <th>Tenure</th>\n",
       "      <th>Balance</th>\n",
       "      <th>NumOfProducts</th>\n",
       "      <th>HasCrCard</th>\n",
       "      <th>IsActiveMember</th>\n",
       "      <th>EstimatedSalary</th>\n",
       "      <th>Gender_Male</th>\n",
       "      <th>Geography_France</th>\n",
       "      <th>Geography_Germany</th>\n",
       "      <th>Geography_Spain</th>\n",
       "    </tr>\n",
       "  </thead>\n",
       "  <tbody>\n",
       "    <tr>\n",
       "      <td>15634602</td>\n",
       "      <td>619</td>\n",
       "      <td>42</td>\n",
       "      <td>2.0</td>\n",
       "      <td>0.00</td>\n",
       "      <td>1</td>\n",
       "      <td>1</td>\n",
       "      <td>1</td>\n",
       "      <td>101348.88</td>\n",
       "      <td>0</td>\n",
       "      <td>1</td>\n",
       "      <td>0</td>\n",
       "      <td>0</td>\n",
       "    </tr>\n",
       "    <tr>\n",
       "      <td>15647311</td>\n",
       "      <td>608</td>\n",
       "      <td>41</td>\n",
       "      <td>1.0</td>\n",
       "      <td>83807.86</td>\n",
       "      <td>1</td>\n",
       "      <td>0</td>\n",
       "      <td>1</td>\n",
       "      <td>112542.58</td>\n",
       "      <td>0</td>\n",
       "      <td>0</td>\n",
       "      <td>0</td>\n",
       "      <td>1</td>\n",
       "    </tr>\n",
       "    <tr>\n",
       "      <td>15619304</td>\n",
       "      <td>502</td>\n",
       "      <td>42</td>\n",
       "      <td>8.0</td>\n",
       "      <td>159660.80</td>\n",
       "      <td>3</td>\n",
       "      <td>1</td>\n",
       "      <td>0</td>\n",
       "      <td>113931.57</td>\n",
       "      <td>0</td>\n",
       "      <td>1</td>\n",
       "      <td>0</td>\n",
       "      <td>0</td>\n",
       "    </tr>\n",
       "    <tr>\n",
       "      <td>15701354</td>\n",
       "      <td>699</td>\n",
       "      <td>39</td>\n",
       "      <td>1.0</td>\n",
       "      <td>0.00</td>\n",
       "      <td>2</td>\n",
       "      <td>0</td>\n",
       "      <td>0</td>\n",
       "      <td>93826.63</td>\n",
       "      <td>0</td>\n",
       "      <td>1</td>\n",
       "      <td>0</td>\n",
       "      <td>0</td>\n",
       "    </tr>\n",
       "    <tr>\n",
       "      <td>15737888</td>\n",
       "      <td>850</td>\n",
       "      <td>43</td>\n",
       "      <td>2.0</td>\n",
       "      <td>125510.82</td>\n",
       "      <td>1</td>\n",
       "      <td>1</td>\n",
       "      <td>1</td>\n",
       "      <td>79084.10</td>\n",
       "      <td>0</td>\n",
       "      <td>0</td>\n",
       "      <td>0</td>\n",
       "      <td>1</td>\n",
       "    </tr>\n",
       "    <tr>\n",
       "      <td>...</td>\n",
       "      <td>...</td>\n",
       "      <td>...</td>\n",
       "      <td>...</td>\n",
       "      <td>...</td>\n",
       "      <td>...</td>\n",
       "      <td>...</td>\n",
       "      <td>...</td>\n",
       "      <td>...</td>\n",
       "      <td>...</td>\n",
       "      <td>...</td>\n",
       "      <td>...</td>\n",
       "      <td>...</td>\n",
       "    </tr>\n",
       "    <tr>\n",
       "      <td>15719294</td>\n",
       "      <td>800</td>\n",
       "      <td>29</td>\n",
       "      <td>2.0</td>\n",
       "      <td>0.00</td>\n",
       "      <td>2</td>\n",
       "      <td>0</td>\n",
       "      <td>0</td>\n",
       "      <td>167773.55</td>\n",
       "      <td>0</td>\n",
       "      <td>1</td>\n",
       "      <td>0</td>\n",
       "      <td>0</td>\n",
       "    </tr>\n",
       "    <tr>\n",
       "      <td>15606229</td>\n",
       "      <td>771</td>\n",
       "      <td>39</td>\n",
       "      <td>5.0</td>\n",
       "      <td>0.00</td>\n",
       "      <td>2</td>\n",
       "      <td>1</td>\n",
       "      <td>0</td>\n",
       "      <td>96270.64</td>\n",
       "      <td>1</td>\n",
       "      <td>1</td>\n",
       "      <td>0</td>\n",
       "      <td>0</td>\n",
       "    </tr>\n",
       "    <tr>\n",
       "      <td>15569892</td>\n",
       "      <td>516</td>\n",
       "      <td>35</td>\n",
       "      <td>10.0</td>\n",
       "      <td>57369.61</td>\n",
       "      <td>1</td>\n",
       "      <td>1</td>\n",
       "      <td>1</td>\n",
       "      <td>101699.77</td>\n",
       "      <td>1</td>\n",
       "      <td>1</td>\n",
       "      <td>0</td>\n",
       "      <td>0</td>\n",
       "    </tr>\n",
       "    <tr>\n",
       "      <td>15584532</td>\n",
       "      <td>709</td>\n",
       "      <td>36</td>\n",
       "      <td>7.0</td>\n",
       "      <td>0.00</td>\n",
       "      <td>1</td>\n",
       "      <td>0</td>\n",
       "      <td>1</td>\n",
       "      <td>42085.58</td>\n",
       "      <td>0</td>\n",
       "      <td>1</td>\n",
       "      <td>0</td>\n",
       "      <td>0</td>\n",
       "    </tr>\n",
       "    <tr>\n",
       "      <td>15682355</td>\n",
       "      <td>772</td>\n",
       "      <td>42</td>\n",
       "      <td>3.0</td>\n",
       "      <td>75075.31</td>\n",
       "      <td>2</td>\n",
       "      <td>1</td>\n",
       "      <td>0</td>\n",
       "      <td>92888.52</td>\n",
       "      <td>1</td>\n",
       "      <td>0</td>\n",
       "      <td>1</td>\n",
       "      <td>0</td>\n",
       "    </tr>\n",
       "  </tbody>\n",
       "</table>\n",
       "<p>9091 rows × 12 columns</p>\n",
       "</div>"
      ],
      "text/plain": [
       "          CreditScore  Age  Tenure    Balance  NumOfProducts  HasCrCard  \\\n",
       "15634602          619   42     2.0       0.00              1          1   \n",
       "15647311          608   41     1.0   83807.86              1          0   \n",
       "15619304          502   42     8.0  159660.80              3          1   \n",
       "15701354          699   39     1.0       0.00              2          0   \n",
       "15737888          850   43     2.0  125510.82              1          1   \n",
       "...               ...  ...     ...        ...            ...        ...   \n",
       "15719294          800   29     2.0       0.00              2          0   \n",
       "15606229          771   39     5.0       0.00              2          1   \n",
       "15569892          516   35    10.0   57369.61              1          1   \n",
       "15584532          709   36     7.0       0.00              1          0   \n",
       "15682355          772   42     3.0   75075.31              2          1   \n",
       "\n",
       "          IsActiveMember  EstimatedSalary  Gender_Male  Geography_France  \\\n",
       "15634602               1        101348.88            0                 1   \n",
       "15647311               1        112542.58            0                 0   \n",
       "15619304               0        113931.57            0                 1   \n",
       "15701354               0         93826.63            0                 1   \n",
       "15737888               1         79084.10            0                 0   \n",
       "...                  ...              ...          ...               ...   \n",
       "15719294               0        167773.55            0                 1   \n",
       "15606229               0         96270.64            1                 1   \n",
       "15569892               1        101699.77            1                 1   \n",
       "15584532               1         42085.58            0                 1   \n",
       "15682355               0         92888.52            1                 0   \n",
       "\n",
       "          Geography_Germany  Geography_Spain  \n",
       "15634602                  0                0  \n",
       "15647311                  0                1  \n",
       "15619304                  0                0  \n",
       "15701354                  0                0  \n",
       "15737888                  0                1  \n",
       "...                     ...              ...  \n",
       "15719294                  0                0  \n",
       "15606229                  0                0  \n",
       "15569892                  0                0  \n",
       "15584532                  0                0  \n",
       "15682355                  1                0  \n",
       "\n",
       "[9091 rows x 12 columns]"
      ]
     },
     "execution_count": 25,
     "metadata": {},
     "output_type": "execute_result"
    }
   ],
   "source": [
    "features"
   ]
  },
  {
   "cell_type": "code",
   "execution_count": 26,
   "metadata": {},
   "outputs": [],
   "source": [
    "# Масштабируем признаки\n",
    "numeric = ['CreditScore','Age','Tenure','Balance','NumOfProducts','HasCrCard','IsActiveMember','EstimatedSalary','Gender_Male','Geography_France','Geography_Germany','Geography_Spain']\n",
    "scaler = StandardScaler()\n",
    "scaler.fit(features_train)\n",
    "\n",
    "features_train = features_train.copy()\n",
    "features_train[numeric] = scaler.transform(features_train[numeric])\n",
    "\n",
    "features_valid = features_valid.copy()\n",
    "features_valid[numeric] = scaler.transform(features_valid[numeric])\n",
    "\n",
    "features_test = features_test.copy()\n",
    "features_test[numeric] = scaler.transform(features_test[numeric])"
   ]
  },
  {
   "cell_type": "code",
   "execution_count": 27,
   "metadata": {},
   "outputs": [
    {
     "data": {
      "text/html": [
       "<div>\n",
       "<style scoped>\n",
       "    .dataframe tbody tr th:only-of-type {\n",
       "        vertical-align: middle;\n",
       "    }\n",
       "\n",
       "    .dataframe tbody tr th {\n",
       "        vertical-align: top;\n",
       "    }\n",
       "\n",
       "    .dataframe thead th {\n",
       "        text-align: right;\n",
       "    }\n",
       "</style>\n",
       "<table border=\"1\" class=\"dataframe\">\n",
       "  <thead>\n",
       "    <tr style=\"text-align: right;\">\n",
       "      <th></th>\n",
       "      <th>CreditScore</th>\n",
       "      <th>Age</th>\n",
       "      <th>Tenure</th>\n",
       "      <th>Balance</th>\n",
       "      <th>NumOfProducts</th>\n",
       "      <th>HasCrCard</th>\n",
       "      <th>IsActiveMember</th>\n",
       "      <th>EstimatedSalary</th>\n",
       "      <th>Gender_Male</th>\n",
       "      <th>Geography_France</th>\n",
       "      <th>Geography_Germany</th>\n",
       "      <th>Geography_Spain</th>\n",
       "    </tr>\n",
       "  </thead>\n",
       "  <tbody>\n",
       "    <tr>\n",
       "      <td>15720050</td>\n",
       "      <td>0.809075</td>\n",
       "      <td>-1.039327</td>\n",
       "      <td>-1.025995</td>\n",
       "      <td>0.554904</td>\n",
       "      <td>-0.908179</td>\n",
       "      <td>0.663468</td>\n",
       "      <td>-1.024127</td>\n",
       "      <td>0.019508</td>\n",
       "      <td>-1.107304</td>\n",
       "      <td>0.999633</td>\n",
       "      <td>-0.58229</td>\n",
       "      <td>-0.572128</td>\n",
       "    </tr>\n",
       "    <tr>\n",
       "      <td>15578096</td>\n",
       "      <td>-1.152518</td>\n",
       "      <td>-1.227561</td>\n",
       "      <td>0.696524</td>\n",
       "      <td>0.480609</td>\n",
       "      <td>-0.908179</td>\n",
       "      <td>-1.507231</td>\n",
       "      <td>-1.024127</td>\n",
       "      <td>0.056167</td>\n",
       "      <td>0.903094</td>\n",
       "      <td>0.999633</td>\n",
       "      <td>-0.58229</td>\n",
       "      <td>-0.572128</td>\n",
       "    </tr>\n",
       "    <tr>\n",
       "      <td>15598266</td>\n",
       "      <td>-0.398853</td>\n",
       "      <td>0.090079</td>\n",
       "      <td>1.385532</td>\n",
       "      <td>-1.237830</td>\n",
       "      <td>-0.908179</td>\n",
       "      <td>0.663468</td>\n",
       "      <td>0.976442</td>\n",
       "      <td>0.848738</td>\n",
       "      <td>0.903094</td>\n",
       "      <td>0.999633</td>\n",
       "      <td>-0.58229</td>\n",
       "      <td>-0.572128</td>\n",
       "    </tr>\n",
       "    <tr>\n",
       "      <td>15701200</td>\n",
       "      <td>-0.749875</td>\n",
       "      <td>-0.286389</td>\n",
       "      <td>0.352020</td>\n",
       "      <td>-1.237830</td>\n",
       "      <td>0.809300</td>\n",
       "      <td>0.663468</td>\n",
       "      <td>0.976442</td>\n",
       "      <td>-0.894953</td>\n",
       "      <td>0.903094</td>\n",
       "      <td>0.999633</td>\n",
       "      <td>-0.58229</td>\n",
       "      <td>-0.572128</td>\n",
       "    </tr>\n",
       "    <tr>\n",
       "      <td>15622443</td>\n",
       "      <td>-1.028628</td>\n",
       "      <td>-0.756975</td>\n",
       "      <td>-0.336987</td>\n",
       "      <td>-1.237830</td>\n",
       "      <td>0.809300</td>\n",
       "      <td>-1.507231</td>\n",
       "      <td>0.976442</td>\n",
       "      <td>-1.284516</td>\n",
       "      <td>0.903094</td>\n",
       "      <td>0.999633</td>\n",
       "      <td>-0.58229</td>\n",
       "      <td>-0.572128</td>\n",
       "    </tr>\n",
       "  </tbody>\n",
       "</table>\n",
       "</div>"
      ],
      "text/plain": [
       "          CreditScore       Age    Tenure   Balance  NumOfProducts  HasCrCard  \\\n",
       "15720050     0.809075 -1.039327 -1.025995  0.554904      -0.908179   0.663468   \n",
       "15578096    -1.152518 -1.227561  0.696524  0.480609      -0.908179  -1.507231   \n",
       "15598266    -0.398853  0.090079  1.385532 -1.237830      -0.908179   0.663468   \n",
       "15701200    -0.749875 -0.286389  0.352020 -1.237830       0.809300   0.663468   \n",
       "15622443    -1.028628 -0.756975 -0.336987 -1.237830       0.809300  -1.507231   \n",
       "\n",
       "          IsActiveMember  EstimatedSalary  Gender_Male  Geography_France  \\\n",
       "15720050       -1.024127         0.019508    -1.107304          0.999633   \n",
       "15578096       -1.024127         0.056167     0.903094          0.999633   \n",
       "15598266        0.976442         0.848738     0.903094          0.999633   \n",
       "15701200        0.976442        -0.894953     0.903094          0.999633   \n",
       "15622443        0.976442        -1.284516     0.903094          0.999633   \n",
       "\n",
       "          Geography_Germany  Geography_Spain  \n",
       "15720050           -0.58229        -0.572128  \n",
       "15578096           -0.58229        -0.572128  \n",
       "15598266           -0.58229        -0.572128  \n",
       "15701200           -0.58229        -0.572128  \n",
       "15622443           -0.58229        -0.572128  "
      ]
     },
     "execution_count": 27,
     "metadata": {},
     "output_type": "execute_result"
    }
   ],
   "source": [
    "features_train.head()"
   ]
  },
  {
   "cell_type": "markdown",
   "metadata": {},
   "source": [
    "## Выводы по п.1\n",
    "\n",
    "Что было сделано:\n",
    "\n",
    "1. Загрузили датасет. В наборе 10000 объектов, пропуски лишь в столбце Tenure (кол-во недвижки).\n",
    "2. Удалили ненужные столбцы RowNumber (индекс строки в данных) и Surname (фамилия). \n",
    "3. Пропуски в столбце Tenure (кол-во недвижки) заменили нулями (0), т.к. пропуск скорей всего означает, что недвижки у клиента нет.\n",
    "4. Признак Gender (пол) перевели из категорийных в численные техникой OHE (прямым кодированием)\n",
    "5. Признак Geography из категорийных в численные техникой OHE\n",
    "6. Столбец CustomerId (уникальный идентификатор клиента) сделали индексом\n",
    "7. Разделили датасет на признаки и целевой признак(Exited - факт ухода клиента)\n",
    "8. Разбили датасет на выборки (обучающую, проверочную, тестовую)\n",
    "9. Масштабировали признаки во всех трех выборках.\n",
    "\n",
    "Данные к дальнейшей работе готовы."
   ]
  },
  {
   "cell_type": "markdown",
   "metadata": {},
   "source": [
    "---\n",
    "# 2. Исследование задачи"
   ]
  },
  {
   "cell_type": "code",
   "execution_count": 28,
   "metadata": {},
   "outputs": [
    {
     "name": "stdout",
     "output_type": "stream",
     "text": [
      "0    0.7963\n",
      "1    0.2037\n",
      "Name: Exited, dtype: float64\n"
     ]
    },
    {
     "data": {
      "text/plain": [
       "<matplotlib.axes._subplots.AxesSubplot at 0x7f5989f12e10>"
      ]
     },
     "execution_count": 28,
     "metadata": {},
     "output_type": "execute_result"
    },
    {
     "data": {
      "image/png": "[encoded data removed]",
      "text/plain": [
       "<Figure size 432x288 with 1 Axes>"
      ]
     },
     "metadata": {
      "needs_background": "light"
     },
     "output_type": "display_data"
    }
   ],
   "source": [
    "# Исследуем баланс классов\n",
    "class_frequency = data_churn['Exited'].value_counts(normalize=True)\n",
    "print(class_frequency)\n",
    "class_frequency.plot(kind='bar')\n",
    "# Только 20% клиентов уходит"
   ]
  },
  {
   "cell_type": "code",
   "execution_count": 29,
   "metadata": {},
   "outputs": [
    {
     "name": "stdout",
     "output_type": "stream",
     "text": [
      "РЕШАЮЩЕЕ ДЕРЕВО\n",
      "Максимальная доля правильных ответов (без баланса): 0.8591859185918592 при глубине дерева: 6\n"
     ]
    }
   ],
   "source": [
    "# Обучим несбалансированную модель решающим деревом без учета дисбаланса\n",
    "fin_accu_tree = 0\n",
    "\n",
    "for depth in range(1, 21, 1):\n",
    "    model = DecisionTreeClassifier(random_state=12345, max_depth=depth)\n",
    "    model.fit(features_train,target_train)\n",
    "    \n",
    "    predicted_valid = model.predict(features_valid)\n",
    "    accuracy_valid = accuracy_score(target_valid, predicted_valid)\n",
    "    \n",
    "#    print('max_depth:',depth,'accuracy_valid:',accuracy_valid)\n",
    "\n",
    "    #отбор\n",
    "    if accuracy_valid > fin_accu_tree:\n",
    "        fin_accu_tree = accuracy_valid\n",
    "        fin_depth = depth\n",
    "        fin_model_tree = model\n",
    "\n",
    "print('РЕШАЮЩЕЕ ДЕРЕВО')\n",
    "print('Максимальная доля правильных ответов (без баланса):',fin_accu_tree,'при глубине дерева:',fin_depth)\n",
    "  "
   ]
  },
  {
   "cell_type": "code",
   "execution_count": 30,
   "metadata": {},
   "outputs": [
    {
     "name": "stdout",
     "output_type": "stream",
     "text": [
      "ЛОГИСТИЧЕСКАЯ РЕГРЕССИЯ\n",
      "Доля правильных ответов (без баланса): 0.8080308030803081\n"
     ]
    }
   ],
   "source": [
    "# Обучим модель логистической регрессией без учета дисбаланса\n",
    "model = LogisticRegression(random_state=12345,solver='liblinear')\n",
    "model.fit(features_train,target_train)\n",
    "    \n",
    "predicted_valid = model.predict(features_valid)\n",
    "accuracy_valid = accuracy_score(target_valid, predicted_valid)\n",
    "print('ЛОГИСТИЧЕСКАЯ РЕГРЕССИЯ')\n",
    "print('Доля правильных ответов (без баланса):',accuracy_valid)\n",
    "fin_model_logreg = model"
   ]
  },
  {
   "cell_type": "code",
   "execution_count": 31,
   "metadata": {},
   "outputs": [
    {
     "name": "stdout",
     "output_type": "stream",
     "text": [
      "Подбираем глубину дерева в случайном лесу\n",
      "Максимальная доля правильных ответов для несбаланированной валидационной выборки: 0.8657865786578658 при глубине дерева: 8\n"
     ]
    }
   ],
   "source": [
    "# Обучим модель случайным лесом без учета дисбаланса\n",
    "# Подбираем глубину дерева в случайном лесу из 20 деревьев\n",
    "\n",
    "fin_accu_tree = 0\n",
    "\n",
    "for depth in range(1, 21, 1):\n",
    "    model = RandomForestClassifier(n_estimators=20, max_depth=depth, random_state=12345)\n",
    "    model.fit(features_train, target_train)\n",
    "    predicted_valid = model.predict(features_valid)\n",
    "    accuracy_valid = accuracy_score(target_valid,predicted_valid)\n",
    "#    print(depth,'-',accuracy_valid)\n",
    "    if accuracy_valid > fin_accu_tree:\n",
    "        fin_accu_tree = accuracy_valid\n",
    "        fin_depth = depth\n",
    "        \n",
    "print('Подбираем глубину дерева в случайном лесу')\n",
    "print('Максимальная доля правильных ответов для несбаланированной валидационной выборки:',fin_accu_tree,'при глубине дерева:',fin_depth)"
   ]
  },
  {
   "cell_type": "code",
   "execution_count": 32,
   "metadata": {},
   "outputs": [],
   "source": [
    "fin_estim = 1\n",
    "fin_accu_forest = 0\n",
    "\n",
    "for estim in range(1, 121, 1):\n",
    "    model = RandomForestClassifier(n_estimators=estim, max_depth=fin_depth, random_state=12345)\n",
    "    model.fit(features_train, target_train)\n",
    "    predicted_valid = model.predict(features_valid)\n",
    "    accuracy_valid = accuracy_score(target_valid,predicted_valid)    \n",
    "#    print(estim,'-',accuracy_valid)\n",
    "    if accuracy_valid > fin_accu_forest:\n",
    "        fin_accu_forest = accuracy_valid\n",
    "        fin_estim = estim\n",
    "        fin_model_forest = model\n",
    "        fin_predicted_valid = predicted_valid"
   ]
  },
  {
   "cell_type": "code",
   "execution_count": 33,
   "metadata": {},
   "outputs": [
    {
     "name": "stdout",
     "output_type": "stream",
     "text": [
      "СЛУЧАЙНЫЙ ЛЕС\n",
      "Максимальная доля правильных ответов для несбаланированной валидационной выборки: 0.8679867986798679 при количестве деревьев: 44\n"
     ]
    }
   ],
   "source": [
    "print('СЛУЧАЙНЫЙ ЛЕС')\n",
    "print('Максимальная доля правильных ответов для несбаланированной валидационной выборки:',fin_accu_forest,'при количестве деревьев:',fin_estim)"
   ]
  },
  {
   "cell_type": "code",
   "execution_count": 34,
   "metadata": {},
   "outputs": [],
   "source": [
    "# Выбираем в дальнейшем модель, обученную случайным лесом, так как у нее максимальная доля правильных ответов (0.8675) \n",
    "# и методику \"случайный лес\" для дальнейшей работы со сбалансированной выборкой"
   ]
  },
  {
   "cell_type": "code",
   "execution_count": 35,
   "metadata": {},
   "outputs": [
    {
     "name": "stdout",
     "output_type": "stream",
     "text": [
      "F1-мера при обучении модели случайным лесом по несбалансированной выборке 0.5804195804195804\n"
     ]
    }
   ],
   "source": [
    "# F1-мера \n",
    "f1 = f1_score(target_valid, fin_predicted_valid, average='binary')\n",
    "print('F1-мера при обучении модели случайным лесом по несбалансированной выборке',f1)"
   ]
  },
  {
   "cell_type": "code",
   "execution_count": 36,
   "metadata": {},
   "outputs": [],
   "source": [
    "# Функция получения AUC-ROC\n",
    "def aucroc(model,target,features):\n",
    "    probabilities_valid = model.predict_proba(features)\n",
    "    probabilities_one_valid = probabilities_valid[:, 1]\n",
    "    auc_roc = roc_auc_score(target,probabilities_one_valid)\n",
    "    return auc_roc"
   ]
  },
  {
   "cell_type": "code",
   "execution_count": 37,
   "metadata": {},
   "outputs": [
    {
     "name": "stdout",
     "output_type": "stream",
     "text": [
      "AUC-ROC 0.8721433870157218\n"
     ]
    }
   ],
   "source": [
    "# AUC-ROC\n",
    "print('AUC-ROC',aucroc(fin_model_forest,target_valid,features_valid))"
   ]
  },
  {
   "cell_type": "code",
   "execution_count": 38,
   "metadata": {},
   "outputs": [],
   "source": [
    "fin_predicted_valid = pd.Series(fin_predicted_valid, index=features_valid.index)"
   ]
  },
  {
   "cell_type": "code",
   "execution_count": 39,
   "metadata": {},
   "outputs": [
    {
     "data": {
      "text/plain": [
       "15630592    1\n",
       "15665879    0\n",
       "15738828    1\n",
       "15602979    0\n",
       "15733111    0\n",
       "           ..\n",
       "15660528    0\n",
       "15671969    0\n",
       "15788775    0\n",
       "15670822    0\n",
       "15726403    0\n",
       "Length: 1818, dtype: int64"
      ]
     },
     "execution_count": 39,
     "metadata": {},
     "output_type": "execute_result"
    }
   ],
   "source": [
    "fin_predicted_valid"
   ]
  },
  {
   "cell_type": "markdown",
   "metadata": {},
   "source": [
    "## Выводы по п.2\n",
    "\n",
    "Что сделали:\n",
    "\n",
    "1. Изучили баланс классов (0 - 0.7963, 1 - 0.2037). Судя по выборке, только 20% клиентов расторгают договор с банком.\n",
    "2. Обучили модель без учета дисбаланса различными методами (логистическая регрессия, решающее дерево, случайный лес). Лучший результат у модели, обученной случайным лесом (accuracy = 0.8675). В дальнейшем для обучения моделей на сбалансированной выборке будем использовать случайный лес с гиперпараметрами n_estimators = 101 и max_depth = 12.\n",
    "3. Измерили F1-меру: 0.5954\n",
    "\n",
    "Дальше сбалансируем классы тренировочной выборки и измеряем F1 и AUC-ROC"
   ]
  },
  {
   "cell_type": "markdown",
   "metadata": {},
   "source": [
    "---\n",
    "# 3. Борьба с дисбалансом"
   ]
  },
  {
   "cell_type": "code",
   "execution_count": 41,
   "metadata": {},
   "outputs": [
    {
     "name": "stdout",
     "output_type": "stream",
     "text": [
      "F1-мера при обучении модели по сбалансированной выборке случайным лесом 0.6453900709219859\n"
     ]
    }
   ],
   "source": [
    "# Делаем веса классов сбалансированными\n",
    "model1 = RandomForestClassifier(n_estimators=fin_estim, max_depth=fin_depth, random_state=12345, class_weight='balanced')\n",
    "model1.fit(features_train, target_train)\n",
    "predicted_valid = model1.predict(features_valid)\n",
    "print(\"F1-мера при обучении модели по сбалансированной выборке случайным лесом\", f1_score(target_valid, predicted_valid))"
   ]
  },
  {
   "cell_type": "code",
   "execution_count": 42,
   "metadata": {},
   "outputs": [
    {
     "name": "stdout",
     "output_type": "stream",
     "text": [
      "AUC-ROC 0.8728419514152601\n"
     ]
    }
   ],
   "source": [
    "# AUC-ROC\n",
    "print('AUC-ROC',aucroc(model1,target_valid,features_valid))"
   ]
  },
  {
   "cell_type": "code",
   "execution_count": 43,
   "metadata": {},
   "outputs": [],
   "source": [
    "# Увеличиваем выборку"
   ]
  },
  {
   "cell_type": "code",
   "execution_count": 44,
   "metadata": {},
   "outputs": [],
   "source": [
    "repeat = 4"
   ]
  },
  {
   "cell_type": "code",
   "execution_count": 45,
   "metadata": {},
   "outputs": [],
   "source": [
    "def upsample(features, target, repeat):\n",
    "    features_zeros = features[target == 0]\n",
    "    features_ones = features[target == 1]\n",
    "    target_zeros = target[target == 0]\n",
    "    target_ones = target[target == 1]\n",
    "\n",
    "    features_upsampled = pd.concat([features_zeros] + [features_ones] * repeat)\n",
    "    target_upsampled = pd.concat([target_zeros] + [target_ones] * repeat)\n",
    "    \n",
    "    features_upsampled, target_upsampled = shuffle(\n",
    "        features_upsampled, target_upsampled, random_state=12345)\n",
    "    \n",
    "    return features_upsampled, target_upsampled"
   ]
  },
  {
   "cell_type": "code",
   "execution_count": 46,
   "metadata": {},
   "outputs": [],
   "source": [
    "features_upsampled, target_upsampled = upsample(features_train, target_train, repeat)"
   ]
  },
  {
   "cell_type": "code",
   "execution_count": 47,
   "metadata": {},
   "outputs": [
    {
     "name": "stdout",
     "output_type": "stream",
     "text": [
      "1    0.509964\n",
      "0    0.490036\n",
      "Name: Exited, dtype: float64\n"
     ]
    },
    {
     "data": {
      "text/plain": [
       "<matplotlib.axes._subplots.AxesSubplot at 0x7f5989e422d0>"
      ]
     },
     "execution_count": 47,
     "metadata": {},
     "output_type": "execute_result"
    },
    {
     "data": {
      "image/png": "[encoded data removed]",
      "text/plain": [
       "<Figure size 432x288 with 1 Axes>"
      ]
     },
     "metadata": {
      "needs_background": "light"
     },
     "output_type": "display_data"
    }
   ],
   "source": [
    "class_frequency = target_upsampled.value_counts(normalize=True)\n",
    "print(class_frequency)\n",
    "class_frequency.plot(kind='bar')"
   ]
  },
  {
   "cell_type": "code",
   "execution_count": 48,
   "metadata": {},
   "outputs": [
    {
     "name": "stdout",
     "output_type": "stream",
     "text": [
      "F1-мера при обучении модели по увеличенной выборке случайным лесом: 0.6252771618625277\n"
     ]
    }
   ],
   "source": [
    "model2 = RandomForestClassifier(n_estimators=fin_estim, max_depth=fin_depth, random_state=12345)\n",
    "model2.fit(features_upsampled, target_upsampled)\n",
    "predicted_valid = model2.predict(features_valid)\n",
    "\n",
    "print(\"F1-мера при обучении модели по увеличенной выборке случайным лесом:\", f1_score(target_valid, predicted_valid))"
   ]
  },
  {
   "cell_type": "code",
   "execution_count": 49,
   "metadata": {},
   "outputs": [
    {
     "name": "stdout",
     "output_type": "stream",
     "text": [
      "AUC-ROC 0.8721341832686924\n"
     ]
    }
   ],
   "source": [
    "# AUC-ROC\n",
    "print('AUC-ROC',aucroc(model2,target_valid,features_valid))"
   ]
  },
  {
   "cell_type": "code",
   "execution_count": 50,
   "metadata": {},
   "outputs": [],
   "source": [
    "# Уменьшаем выборку"
   ]
  },
  {
   "cell_type": "code",
   "execution_count": 51,
   "metadata": {},
   "outputs": [],
   "source": [
    "fraction = 0.25"
   ]
  },
  {
   "cell_type": "code",
   "execution_count": 52,
   "metadata": {},
   "outputs": [],
   "source": [
    "def downsample(features, target, fraction):\n",
    "    features_zeros = features[target == 0]\n",
    "    features_ones = features[target == 1]\n",
    "    target_zeros = target[target == 0]\n",
    "    target_ones = target[target == 1]\n",
    "\n",
    "    features_downsampled = pd.concat(\n",
    "        [features_zeros.sample(frac=fraction, random_state=12345)] + [features_ones])\n",
    "    target_downsampled = pd.concat(\n",
    "        [target_zeros.sample(frac=fraction, random_state=12345)] + [target_ones])\n",
    "    \n",
    "    features_downsampled, target_downsampled = shuffle(\n",
    "        features_downsampled, target_downsampled, random_state=12345)\n",
    "    \n",
    "    return features_downsampled, target_downsampled"
   ]
  },
  {
   "cell_type": "code",
   "execution_count": 53,
   "metadata": {},
   "outputs": [],
   "source": [
    "features_downsampled, target_downsampled = downsample(features_train, target_train, fraction)"
   ]
  },
  {
   "cell_type": "code",
   "execution_count": 54,
   "metadata": {},
   "outputs": [
    {
     "name": "stdout",
     "output_type": "stream",
     "text": [
      "1    0.509964\n",
      "0    0.490036\n",
      "Name: Exited, dtype: float64\n"
     ]
    },
    {
     "data": {
      "text/plain": [
       "<matplotlib.axes._subplots.AxesSubplot at 0x7f5989dd7d10>"
      ]
     },
     "execution_count": 54,
     "metadata": {},
     "output_type": "execute_result"
    },
    {
     "data": {
      "image/png": "[encoded data removed]",
      "text/plain": [
       "<Figure size 432x288 with 1 Axes>"
      ]
     },
     "metadata": {
      "needs_background": "light"
     },
     "output_type": "display_data"
    }
   ],
   "source": [
    "class_frequency = target_downsampled.value_counts(normalize=True)\n",
    "print(class_frequency)\n",
    "class_frequency.plot(kind='bar')"
   ]
  },
  {
   "cell_type": "code",
   "execution_count": 55,
   "metadata": {},
   "outputs": [
    {
     "name": "stdout",
     "output_type": "stream",
     "text": [
      "F1-мера при обучении модели по уменьшенной выборке случайным лесом: 0.5955383123181376\n"
     ]
    }
   ],
   "source": [
    "model3 = RandomForestClassifier(n_estimators=fin_estim, max_depth=fin_depth, random_state=12345)\n",
    "model3.fit(features_downsampled, target_downsampled)\n",
    "\n",
    "predicted_valid = model3.predict(features_valid)\n",
    "\n",
    "print(\"F1-мера при обучении модели по уменьшенной выборке случайным лесом:\", f1_score(target_valid, predicted_valid))"
   ]
  },
  {
   "cell_type": "code",
   "execution_count": 56,
   "metadata": {},
   "outputs": [
    {
     "name": "stdout",
     "output_type": "stream",
     "text": [
      "AUC-ROC 0.8676906142028542\n"
     ]
    }
   ],
   "source": [
    "# AUC-ROC\n",
    "print('AUC-ROC',aucroc(model3,target_valid,features_valid))"
   ]
  },
  {
   "cell_type": "markdown",
   "metadata": {},
   "source": [
    "## Выводы по п.3\n",
    "\n",
    "Что сделали:\n",
    "\n",
    "1. Сделали веса классов сбалансированными, обучили модель случайным лесом с полученными ранее гиперпараметрами (101 дерево с глубиной 12). F1-мера: 0.6127 (AUC-ROC: 0.8489). \n",
    "\n",
    "2. Увеличили тренировочную выборку (количество положительных объектов увеличили в 4 раза), обучили модель случайным лесом.\n",
    "F1-мера: 0.6106 (AUC-ROC: 0.8422).\n",
    "\n",
    "3. Уменьшили тренировочную выборку (количество отрицательных объектов уменьшили в 4 раза), обучили модель случайным лесом.\n",
    "F1-мера: 0.5827 (AUC-ROC: 0.8440).\n",
    "\n",
    "4. Максимальный показатель F1-меры получили при обучении модели с балансом классов (0.6127). Для тестирования на тестовой выборке будем использовать эту модель (model1) \n",
    "\n",
    "5. Дополнительно измеряли AUC-ROC. Если выбирать модель по значениям AUC-ROC, наиболее оптимальной также будет первая модель (model1), AUC-ROC: 0.8489.\n"
   ]
  },
  {
   "cell_type": "markdown",
   "metadata": {},
   "source": [
    "---\n",
    "# 4. Тестирование модели"
   ]
  },
  {
   "cell_type": "code",
   "execution_count": 57,
   "metadata": {},
   "outputs": [
    {
     "name": "stdout",
     "output_type": "stream",
     "text": [
      "F1 для теста: 0.602258469259724\n"
     ]
    }
   ],
   "source": [
    "#тестируем модель на тестовой выборке\n",
    "predicted_test = model1.predict(features_test)\n",
    "print(\"F1 для теста:\", f1_score(target_test, predicted_test))"
   ]
  },
  {
   "cell_type": "code",
   "execution_count": 58,
   "metadata": {},
   "outputs": [
    {
     "name": "stdout",
     "output_type": "stream",
     "text": [
      "AUC-ROC для теста 0.857879782947903\n"
     ]
    }
   ],
   "source": [
    "# AUC-ROC\n",
    "print('AUC-ROC для теста',aucroc(model1,target_test,features_test))"
   ]
  },
  {
   "cell_type": "code",
   "execution_count": 59,
   "metadata": {},
   "outputs": [
    {
     "name": "stdout",
     "output_type": "stream",
     "text": [
      "accuracy для теста 0.8257284222100055\n"
     ]
    }
   ],
   "source": [
    "#accuracy\n",
    "print('accuracy для теста',accuracy_score(target_test, predicted_test))"
   ]
  },
  {
   "cell_type": "code",
   "execution_count": 60,
   "metadata": {},
   "outputs": [
    {
     "name": "stdout",
     "output_type": "stream",
     "text": [
      "Доля правильных ответов константной модели 0.7960620393796062\n"
     ]
    }
   ],
   "source": [
    "# Проверка адекватности\n",
    "# Создадим константную модель (любому объекту прогнозирует 0)\n",
    "target_pred_constant = pd.Series(0, index=features.index)\n",
    "accuracy = accuracy_score(target, target_pred_constant)\n",
    "print('Доля правильных ответов константной модели',accuracy)"
   ]
  },
  {
   "cell_type": "markdown",
   "metadata": {},
   "source": [
    "## Выводы по п.4\n",
    "\n",
    "Что сделали: \n",
    "1. Проверили F1-меру на тестовой выборке. F1-мера для тестовой выборки: 0.5907, что соответствует заданию проекта *довести метрику до 0.59*.\n",
    "\n",
    "2. Измерили AUC-ROC: 0.8550.\n",
    "\n",
    "3. Проверили адекватность модели: \n",
    "    * Создали константную модель, любому объекту прогнозирующую класс 0. \n",
    "    * Доля правильных ответов константной модели 0.7963, что меньше доли правильных ответов выбранной модели (0.8455).\n",
    "    * Считаем, что модель прошла проверку на адекватность."
   ]
  },
  {
   "cell_type": "markdown",
   "metadata": {},
   "source": [
    "---\n",
    "# Заключительные выводы\n",
    "\n",
    "Все работы согласно плана выполнены:\n",
    "\n",
    "1. Данные загружены и подготовлены, порядок действий пояснен.\n",
    "2. Баланс классов исследован (80/20) - только 20% клиентов расторгают контракт с банком. \n",
    "3. Модели обучены тремя разными методами (логистическая регрессия, решающее дерево, случайный лес) без учёта дисбаланса. Максимальную долю правильных ответов показала модель, обученная случайным лесом со следующими подобранными гиперпараметрами: число деревьев = 101, глубина дерева = 12. \n",
    "4. Улучшили качество модели, учитывая дисбаланс классов. Обучили модели методом случайный лес с подобранными ранее гиперпараметрами разными способами решая проблему дисбаланса:\n",
    "    * указывая при обучении параметр class_weight='balanced'(сделали веса классов сбалансированными).\n",
    "    * увеличивая тренировочную выборку.\n",
    "    * уменьшая тренировочную выборку.\n",
    "5. Выбрали лучшую модель c F1=0.6127 (и AUC-ROC=0.8489), полученную при обучении со сбалансироваными весами классов.\n",
    "6. Провели финальное тестирование выбранной модели на тестовой выборке, получили F1 для теста: 0.5907, что соответствует задаче проекта (довести метрику до 0.59). \n",
    "7. Дополнительно замерили AUC-ROC для теста: 0.8550.\n",
    "8. Проверили модель на адекватность - модель проверку прошла."
   ]
  },
  {
   "cell_type": "code",
   "execution_count": null,
   "metadata": {},
   "outputs": [],
   "source": []
  }
 ],
 "metadata": {
  "kernelspec": {
   "display_name": "Python 3",
   "language": "python",
   "name": "python3"
  },
  "language_info": {
   "codemirror_mode": {
    "name": "ipython",
    "version": 3
   },
   "file_extension": ".py",
   "mimetype": "text/x-python",
   "name": "python",
   "nbconvert_exporter": "python",
   "pygments_lexer": "ipython3",
   "version": "3.7.8"
  }
 },
 "nbformat": 4,
 "nbformat_minor": 2
}
