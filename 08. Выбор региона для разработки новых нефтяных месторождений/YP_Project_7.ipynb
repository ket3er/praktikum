{
 "cells": [
  {
   "cell_type": "markdown",
   "metadata": {},
   "source": [
    "# Нефтедобыча\n",
    "\n",
    "---"
   ]
  },
  {
   "cell_type": "markdown",
   "metadata": {},
   "source": [
    "# Описание проекта"
   ]
  },
  {
   "cell_type": "markdown",
   "metadata": {},
   "source": [
    "Даны пробы нефти в трёх регионах. Требуется построить модель машинного обучения, которая поможет определить регион с наиболее прибыльной добычей."
   ]
  },
  {
   "cell_type": "markdown",
   "metadata": {},
   "source": [
    "# Описание данных\n",
    "Данные геологоразведки трёх регионов находятся в файлах: geo_data_0.csv, geo_data_1.csv, geo_data_2.csv.\n",
    "* id — уникальный идентификатор скважины;\n",
    "* f0, f1, f2 — три признака точек;\n",
    "* product — объём запасов в скважине (тыс. баррелей)."
   ]
  },
  {
   "cell_type": "markdown",
   "metadata": {},
   "source": [
    "# План действий\n",
    "1. Загрузить и подготовить данные. Пояснить порядок действий.\n",
    "\n",
    "2. Обучить и проверить модель для каждого региона:\n",
    "\n",
    "    2.1. Разбить данные на обучающую и валидационную выборки в соотношении 75:25.\n",
    "    \n",
    "    2.2. Обучить модель и сделать предсказания на валидационной выборке.\n",
    "    \n",
    "    2.3. Сохранить предсказания и правильные ответы на валидационной выборке.\n",
    "    \n",
    "    2.4. Напечатать на экране средний запас предсказанного сырья и RMSE модели.\n",
    "    \n",
    "    2.5. Проанализировать результаты.\n",
    "    \n",
    "    \n",
    "3. Подготовиться к расчёту прибыли:\n",
    "\n",
    "    3.1. Все ключевые значения для расчётов сохранить в отдельных переменных.\n",
    "    \n",
    "    3.2. Рассчитать достаточный объём сырья для безубыточной разработки новой скважины. Сравнить полученный объём сырья со средним запасом в каждом регионе.\n",
    "    \n",
    "    3.3. Написать выводы по этапу подготовки расчёта прибыли.\n",
    "    \n",
    "    \n",
    "4. Написать функцию для расчёта прибыли по выбранным скважинам и предсказаниям модели:\n",
    "\n",
    "    4.1. Выбрать скважины с максимальными значениями предсказаний.\n",
    "    \n",
    "    4.2. Просуммировать целевое значение объёма сырья, соответствующее этим предсказаниям.\n",
    "    \n",
    "    4.3. Рассчитать прибыль для полученного объёма сырья.\n",
    "    \n",
    "    \n",
    "5. Посчитать риски и прибыль для каждого региона:\n",
    "\n",
    "    5.1. Применить технику Bootstrap с 1000 выборок, чтобы найти распределение прибыли.\n",
    "    \n",
    "    5.2. Найти среднюю прибыль, 95%-й доверительный интервал и риск убытков.\n",
    "    \n",
    "    5.3. Написать выводы: предложить регион для разработки скважин и обосновать выбор."
   ]
  },
  {
   "cell_type": "markdown",
   "metadata": {},
   "source": [
    "# 1. Загрузка и подготовка данных"
   ]
  },
  {
   "cell_type": "code",
   "execution_count": 1,
   "metadata": {},
   "outputs": [],
   "source": [
    "import pandas as pd\n",
    "import numpy as np\n",
    "from sklearn.model_selection import train_test_split\n",
    "from sklearn.linear_model import LinearRegression\n",
    "from sklearn.metrics import mean_squared_error\n",
    "from sklearn.metrics import r2_score"
   ]
  },
  {
   "cell_type": "code",
   "execution_count": 2,
   "metadata": {},
   "outputs": [],
   "source": [
    "data_reg_0 = pd.read_csv('/datasets/geo_data_0.csv')\n",
    "data_reg_1 = pd.read_csv('/datasets/geo_data_1.csv')\n",
    "data_reg_2 = pd.read_csv('/datasets/geo_data_2.csv')"
   ]
  },
  {
   "cell_type": "code",
   "execution_count": 3,
   "metadata": {},
   "outputs": [
    {
     "data": {
      "text/html": [
       "<div>\n",
       "<style scoped>\n",
       "    .dataframe tbody tr th:only-of-type {\n",
       "        vertical-align: middle;\n",
       "    }\n",
       "\n",
       "    .dataframe tbody tr th {\n",
       "        vertical-align: top;\n",
       "    }\n",
       "\n",
       "    .dataframe thead th {\n",
       "        text-align: right;\n",
       "    }\n",
       "</style>\n",
       "<table border=\"1\" class=\"dataframe\">\n",
       "  <thead>\n",
       "    <tr style=\"text-align: right;\">\n",
       "      <th></th>\n",
       "      <th>id</th>\n",
       "      <th>f0</th>\n",
       "      <th>f1</th>\n",
       "      <th>f2</th>\n",
       "      <th>product</th>\n",
       "    </tr>\n",
       "  </thead>\n",
       "  <tbody>\n",
       "    <tr>\n",
       "      <td>8826</td>\n",
       "      <td>rjMou</td>\n",
       "      <td>1.797736</td>\n",
       "      <td>0.098212</td>\n",
       "      <td>6.148260</td>\n",
       "      <td>185.364347</td>\n",
       "    </tr>\n",
       "    <tr>\n",
       "      <td>99818</td>\n",
       "      <td>7cHIv</td>\n",
       "      <td>0.518445</td>\n",
       "      <td>-0.412790</td>\n",
       "      <td>4.951916</td>\n",
       "      <td>185.362690</td>\n",
       "    </tr>\n",
       "    <tr>\n",
       "      <td>94175</td>\n",
       "      <td>uCDzR</td>\n",
       "      <td>0.351428</td>\n",
       "      <td>-0.400244</td>\n",
       "      <td>7.227618</td>\n",
       "      <td>185.355615</td>\n",
       "    </tr>\n",
       "    <tr>\n",
       "      <td>1925</td>\n",
       "      <td>IfqrC</td>\n",
       "      <td>0.624430</td>\n",
       "      <td>-0.469312</td>\n",
       "      <td>5.753677</td>\n",
       "      <td>185.354980</td>\n",
       "    </tr>\n",
       "    <tr>\n",
       "      <td>45291</td>\n",
       "      <td>5FEPb</td>\n",
       "      <td>1.758787</td>\n",
       "      <td>-0.395038</td>\n",
       "      <td>6.719085</td>\n",
       "      <td>185.352015</td>\n",
       "    </tr>\n",
       "  </tbody>\n",
       "</table>\n",
       "</div>"
      ],
      "text/plain": [
       "          id        f0        f1        f2     product\n",
       "8826   rjMou  1.797736  0.098212  6.148260  185.364347\n",
       "99818  7cHIv  0.518445 -0.412790  4.951916  185.362690\n",
       "94175  uCDzR  0.351428 -0.400244  7.227618  185.355615\n",
       "1925   IfqrC  0.624430 -0.469312  5.753677  185.354980\n",
       "45291  5FEPb  1.758787 -0.395038  6.719085  185.352015"
      ]
     },
     "execution_count": 3,
     "metadata": {},
     "output_type": "execute_result"
    }
   ],
   "source": [
    "data_reg_0.sort_values(by='product',ascending = False).head()"
   ]
  },
  {
   "cell_type": "code",
   "execution_count": 4,
   "metadata": {},
   "outputs": [
    {
     "name": "stdout",
     "output_type": "stream",
     "text": [
      "<class 'pandas.core.frame.DataFrame'>\n",
      "RangeIndex: 100000 entries, 0 to 99999\n",
      "Data columns (total 5 columns):\n",
      "id         100000 non-null object\n",
      "f0         100000 non-null float64\n",
      "f1         100000 non-null float64\n",
      "f2         100000 non-null float64\n",
      "product    100000 non-null float64\n",
      "dtypes: float64(4), object(1)\n",
      "memory usage: 3.8+ MB\n"
     ]
    }
   ],
   "source": [
    "data_reg_0.info()"
   ]
  },
  {
   "cell_type": "code",
   "execution_count": 5,
   "metadata": {},
   "outputs": [
    {
     "data": {
      "text/html": [
       "<div>\n",
       "<style scoped>\n",
       "    .dataframe tbody tr th:only-of-type {\n",
       "        vertical-align: middle;\n",
       "    }\n",
       "\n",
       "    .dataframe tbody tr th {\n",
       "        vertical-align: top;\n",
       "    }\n",
       "\n",
       "    .dataframe thead th {\n",
       "        text-align: right;\n",
       "    }\n",
       "</style>\n",
       "<table border=\"1\" class=\"dataframe\">\n",
       "  <thead>\n",
       "    <tr style=\"text-align: right;\">\n",
       "      <th></th>\n",
       "      <th>f0</th>\n",
       "      <th>f1</th>\n",
       "      <th>f2</th>\n",
       "      <th>product</th>\n",
       "    </tr>\n",
       "  </thead>\n",
       "  <tbody>\n",
       "    <tr>\n",
       "      <td>count</td>\n",
       "      <td>100000.000000</td>\n",
       "      <td>100000.000000</td>\n",
       "      <td>100000.000000</td>\n",
       "      <td>100000.000000</td>\n",
       "    </tr>\n",
       "    <tr>\n",
       "      <td>mean</td>\n",
       "      <td>0.500419</td>\n",
       "      <td>0.250143</td>\n",
       "      <td>2.502647</td>\n",
       "      <td>92.500000</td>\n",
       "    </tr>\n",
       "    <tr>\n",
       "      <td>std</td>\n",
       "      <td>0.871832</td>\n",
       "      <td>0.504433</td>\n",
       "      <td>3.248248</td>\n",
       "      <td>44.288691</td>\n",
       "    </tr>\n",
       "    <tr>\n",
       "      <td>min</td>\n",
       "      <td>-1.408605</td>\n",
       "      <td>-0.848218</td>\n",
       "      <td>-12.088328</td>\n",
       "      <td>0.000000</td>\n",
       "    </tr>\n",
       "    <tr>\n",
       "      <td>25%</td>\n",
       "      <td>-0.072580</td>\n",
       "      <td>-0.200881</td>\n",
       "      <td>0.287748</td>\n",
       "      <td>56.497507</td>\n",
       "    </tr>\n",
       "    <tr>\n",
       "      <td>50%</td>\n",
       "      <td>0.502360</td>\n",
       "      <td>0.250252</td>\n",
       "      <td>2.515969</td>\n",
       "      <td>91.849972</td>\n",
       "    </tr>\n",
       "    <tr>\n",
       "      <td>75%</td>\n",
       "      <td>1.073581</td>\n",
       "      <td>0.700646</td>\n",
       "      <td>4.715088</td>\n",
       "      <td>128.564089</td>\n",
       "    </tr>\n",
       "    <tr>\n",
       "      <td>max</td>\n",
       "      <td>2.362331</td>\n",
       "      <td>1.343769</td>\n",
       "      <td>16.003790</td>\n",
       "      <td>185.364347</td>\n",
       "    </tr>\n",
       "  </tbody>\n",
       "</table>\n",
       "</div>"
      ],
      "text/plain": [
       "                  f0             f1             f2        product\n",
       "count  100000.000000  100000.000000  100000.000000  100000.000000\n",
       "mean        0.500419       0.250143       2.502647      92.500000\n",
       "std         0.871832       0.504433       3.248248      44.288691\n",
       "min        -1.408605      -0.848218     -12.088328       0.000000\n",
       "25%        -0.072580      -0.200881       0.287748      56.497507\n",
       "50%         0.502360       0.250252       2.515969      91.849972\n",
       "75%         1.073581       0.700646       4.715088     128.564089\n",
       "max         2.362331       1.343769      16.003790     185.364347"
      ]
     },
     "execution_count": 5,
     "metadata": {},
     "output_type": "execute_result"
    }
   ],
   "source": [
    "data_reg_0.describe()"
   ]
  },
  {
   "cell_type": "code",
   "execution_count": 6,
   "metadata": {},
   "outputs": [
    {
     "data": {
      "text/plain": [
       "0"
      ]
     },
     "execution_count": 6,
     "metadata": {},
     "output_type": "execute_result"
    }
   ],
   "source": [
    "data_reg_0.duplicated().sum()"
   ]
  },
  {
   "cell_type": "code",
   "execution_count": 7,
   "metadata": {},
   "outputs": [
    {
     "data": {
      "text/html": [
       "<div>\n",
       "<style scoped>\n",
       "    .dataframe tbody tr th:only-of-type {\n",
       "        vertical-align: middle;\n",
       "    }\n",
       "\n",
       "    .dataframe tbody tr th {\n",
       "        vertical-align: top;\n",
       "    }\n",
       "\n",
       "    .dataframe thead th {\n",
       "        text-align: right;\n",
       "    }\n",
       "</style>\n",
       "<table border=\"1\" class=\"dataframe\">\n",
       "  <thead>\n",
       "    <tr style=\"text-align: right;\">\n",
       "      <th></th>\n",
       "      <th>id</th>\n",
       "      <th>f0</th>\n",
       "      <th>f1</th>\n",
       "      <th>f2</th>\n",
       "      <th>product</th>\n",
       "    </tr>\n",
       "  </thead>\n",
       "  <tbody>\n",
       "    <tr>\n",
       "      <td>53864</td>\n",
       "      <td>MzRzn</td>\n",
       "      <td>2.901352</td>\n",
       "      <td>-3.475398</td>\n",
       "      <td>5.001393</td>\n",
       "      <td>137.945408</td>\n",
       "    </tr>\n",
       "    <tr>\n",
       "      <td>97083</td>\n",
       "      <td>nW6eC</td>\n",
       "      <td>-4.030430</td>\n",
       "      <td>-14.020643</td>\n",
       "      <td>5.009571</td>\n",
       "      <td>137.945408</td>\n",
       "    </tr>\n",
       "    <tr>\n",
       "      <td>88340</td>\n",
       "      <td>xwJzQ</td>\n",
       "      <td>-3.373117</td>\n",
       "      <td>-9.227661</td>\n",
       "      <td>4.994369</td>\n",
       "      <td>137.945408</td>\n",
       "    </tr>\n",
       "    <tr>\n",
       "      <td>64879</td>\n",
       "      <td>Xd8DC</td>\n",
       "      <td>-5.360281</td>\n",
       "      <td>-2.388204</td>\n",
       "      <td>5.001439</td>\n",
       "      <td>137.945408</td>\n",
       "    </tr>\n",
       "    <tr>\n",
       "      <td>7288</td>\n",
       "      <td>Stdrb</td>\n",
       "      <td>-8.058661</td>\n",
       "      <td>-2.244840</td>\n",
       "      <td>5.000753</td>\n",
       "      <td>137.945408</td>\n",
       "    </tr>\n",
       "  </tbody>\n",
       "</table>\n",
       "</div>"
      ],
      "text/plain": [
       "          id        f0         f1        f2     product\n",
       "53864  MzRzn  2.901352  -3.475398  5.001393  137.945408\n",
       "97083  nW6eC -4.030430 -14.020643  5.009571  137.945408\n",
       "88340  xwJzQ -3.373117  -9.227661  4.994369  137.945408\n",
       "64879  Xd8DC -5.360281  -2.388204  5.001439  137.945408\n",
       "7288   Stdrb -8.058661  -2.244840  5.000753  137.945408"
      ]
     },
     "execution_count": 7,
     "metadata": {},
     "output_type": "execute_result"
    }
   ],
   "source": [
    "data_reg_1.sort_values(by='product',ascending = False).head()"
   ]
  },
  {
   "cell_type": "code",
   "execution_count": 8,
   "metadata": {},
   "outputs": [
    {
     "name": "stdout",
     "output_type": "stream",
     "text": [
      "<class 'pandas.core.frame.DataFrame'>\n",
      "RangeIndex: 100000 entries, 0 to 99999\n",
      "Data columns (total 5 columns):\n",
      "id         100000 non-null object\n",
      "f0         100000 non-null float64\n",
      "f1         100000 non-null float64\n",
      "f2         100000 non-null float64\n",
      "product    100000 non-null float64\n",
      "dtypes: float64(4), object(1)\n",
      "memory usage: 3.8+ MB\n"
     ]
    }
   ],
   "source": [
    "data_reg_1.info()"
   ]
  },
  {
   "cell_type": "code",
   "execution_count": 9,
   "metadata": {},
   "outputs": [
    {
     "data": {
      "text/html": [
       "<div>\n",
       "<style scoped>\n",
       "    .dataframe tbody tr th:only-of-type {\n",
       "        vertical-align: middle;\n",
       "    }\n",
       "\n",
       "    .dataframe tbody tr th {\n",
       "        vertical-align: top;\n",
       "    }\n",
       "\n",
       "    .dataframe thead th {\n",
       "        text-align: right;\n",
       "    }\n",
       "</style>\n",
       "<table border=\"1\" class=\"dataframe\">\n",
       "  <thead>\n",
       "    <tr style=\"text-align: right;\">\n",
       "      <th></th>\n",
       "      <th>f0</th>\n",
       "      <th>f1</th>\n",
       "      <th>f2</th>\n",
       "      <th>product</th>\n",
       "    </tr>\n",
       "  </thead>\n",
       "  <tbody>\n",
       "    <tr>\n",
       "      <td>count</td>\n",
       "      <td>100000.000000</td>\n",
       "      <td>100000.000000</td>\n",
       "      <td>100000.000000</td>\n",
       "      <td>100000.000000</td>\n",
       "    </tr>\n",
       "    <tr>\n",
       "      <td>mean</td>\n",
       "      <td>1.141296</td>\n",
       "      <td>-4.796579</td>\n",
       "      <td>2.494541</td>\n",
       "      <td>68.825000</td>\n",
       "    </tr>\n",
       "    <tr>\n",
       "      <td>std</td>\n",
       "      <td>8.965932</td>\n",
       "      <td>5.119872</td>\n",
       "      <td>1.703572</td>\n",
       "      <td>45.944423</td>\n",
       "    </tr>\n",
       "    <tr>\n",
       "      <td>min</td>\n",
       "      <td>-31.609576</td>\n",
       "      <td>-26.358598</td>\n",
       "      <td>-0.018144</td>\n",
       "      <td>0.000000</td>\n",
       "    </tr>\n",
       "    <tr>\n",
       "      <td>25%</td>\n",
       "      <td>-6.298551</td>\n",
       "      <td>-8.267985</td>\n",
       "      <td>1.000021</td>\n",
       "      <td>26.953261</td>\n",
       "    </tr>\n",
       "    <tr>\n",
       "      <td>50%</td>\n",
       "      <td>1.153055</td>\n",
       "      <td>-4.813172</td>\n",
       "      <td>2.011479</td>\n",
       "      <td>57.085625</td>\n",
       "    </tr>\n",
       "    <tr>\n",
       "      <td>75%</td>\n",
       "      <td>8.621015</td>\n",
       "      <td>-1.332816</td>\n",
       "      <td>3.999904</td>\n",
       "      <td>107.813044</td>\n",
       "    </tr>\n",
       "    <tr>\n",
       "      <td>max</td>\n",
       "      <td>29.421755</td>\n",
       "      <td>18.734063</td>\n",
       "      <td>5.019721</td>\n",
       "      <td>137.945408</td>\n",
       "    </tr>\n",
       "  </tbody>\n",
       "</table>\n",
       "</div>"
      ],
      "text/plain": [
       "                  f0             f1             f2        product\n",
       "count  100000.000000  100000.000000  100000.000000  100000.000000\n",
       "mean        1.141296      -4.796579       2.494541      68.825000\n",
       "std         8.965932       5.119872       1.703572      45.944423\n",
       "min       -31.609576     -26.358598      -0.018144       0.000000\n",
       "25%        -6.298551      -8.267985       1.000021      26.953261\n",
       "50%         1.153055      -4.813172       2.011479      57.085625\n",
       "75%         8.621015      -1.332816       3.999904     107.813044\n",
       "max        29.421755      18.734063       5.019721     137.945408"
      ]
     },
     "execution_count": 9,
     "metadata": {},
     "output_type": "execute_result"
    }
   ],
   "source": [
    "data_reg_1.describe()"
   ]
  },
  {
   "cell_type": "code",
   "execution_count": 10,
   "metadata": {},
   "outputs": [
    {
     "data": {
      "text/plain": [
       "0"
      ]
     },
     "execution_count": 10,
     "metadata": {},
     "output_type": "execute_result"
    }
   ],
   "source": [
    "data_reg_1.duplicated().sum()"
   ]
  },
  {
   "cell_type": "code",
   "execution_count": 11,
   "metadata": {},
   "outputs": [
    {
     "data": {
      "text/html": [
       "<div>\n",
       "<style scoped>\n",
       "    .dataframe tbody tr th:only-of-type {\n",
       "        vertical-align: middle;\n",
       "    }\n",
       "\n",
       "    .dataframe tbody tr th {\n",
       "        vertical-align: top;\n",
       "    }\n",
       "\n",
       "    .dataframe thead th {\n",
       "        text-align: right;\n",
       "    }\n",
       "</style>\n",
       "<table border=\"1\" class=\"dataframe\">\n",
       "  <thead>\n",
       "    <tr style=\"text-align: right;\">\n",
       "      <th></th>\n",
       "      <th>id</th>\n",
       "      <th>f0</th>\n",
       "      <th>f1</th>\n",
       "      <th>f2</th>\n",
       "      <th>product</th>\n",
       "    </tr>\n",
       "  </thead>\n",
       "  <tbody>\n",
       "    <tr>\n",
       "      <td>79705</td>\n",
       "      <td>UAhji</td>\n",
       "      <td>-2.747914</td>\n",
       "      <td>1.555227</td>\n",
       "      <td>3.342182</td>\n",
       "      <td>190.029838</td>\n",
       "    </tr>\n",
       "    <tr>\n",
       "      <td>93444</td>\n",
       "      <td>IB0JE</td>\n",
       "      <td>3.026506</td>\n",
       "      <td>1.344623</td>\n",
       "      <td>8.891243</td>\n",
       "      <td>190.013589</td>\n",
       "    </tr>\n",
       "    <tr>\n",
       "      <td>35099</td>\n",
       "      <td>2HeCn</td>\n",
       "      <td>2.848844</td>\n",
       "      <td>-1.701996</td>\n",
       "      <td>9.437101</td>\n",
       "      <td>190.011722</td>\n",
       "    </tr>\n",
       "    <tr>\n",
       "      <td>21943</td>\n",
       "      <td>dldNH</td>\n",
       "      <td>-2.500091</td>\n",
       "      <td>2.024392</td>\n",
       "      <td>6.291513</td>\n",
       "      <td>190.010982</td>\n",
       "    </tr>\n",
       "    <tr>\n",
       "      <td>37870</td>\n",
       "      <td>CpuBi</td>\n",
       "      <td>-0.686667</td>\n",
       "      <td>-3.219452</td>\n",
       "      <td>5.963290</td>\n",
       "      <td>190.010029</td>\n",
       "    </tr>\n",
       "  </tbody>\n",
       "</table>\n",
       "</div>"
      ],
      "text/plain": [
       "          id        f0        f1        f2     product\n",
       "79705  UAhji -2.747914  1.555227  3.342182  190.029838\n",
       "93444  IB0JE  3.026506  1.344623  8.891243  190.013589\n",
       "35099  2HeCn  2.848844 -1.701996  9.437101  190.011722\n",
       "21943  dldNH -2.500091  2.024392  6.291513  190.010982\n",
       "37870  CpuBi -0.686667 -3.219452  5.963290  190.010029"
      ]
     },
     "execution_count": 11,
     "metadata": {},
     "output_type": "execute_result"
    }
   ],
   "source": [
    "data_reg_2.sort_values(by='product',ascending = False).head()"
   ]
  },
  {
   "cell_type": "code",
   "execution_count": 12,
   "metadata": {},
   "outputs": [
    {
     "name": "stdout",
     "output_type": "stream",
     "text": [
      "<class 'pandas.core.frame.DataFrame'>\n",
      "RangeIndex: 100000 entries, 0 to 99999\n",
      "Data columns (total 5 columns):\n",
      "id         100000 non-null object\n",
      "f0         100000 non-null float64\n",
      "f1         100000 non-null float64\n",
      "f2         100000 non-null float64\n",
      "product    100000 non-null float64\n",
      "dtypes: float64(4), object(1)\n",
      "memory usage: 3.8+ MB\n"
     ]
    }
   ],
   "source": [
    "data_reg_2.info()"
   ]
  },
  {
   "cell_type": "code",
   "execution_count": 13,
   "metadata": {},
   "outputs": [
    {
     "data": {
      "text/html": [
       "<div>\n",
       "<style scoped>\n",
       "    .dataframe tbody tr th:only-of-type {\n",
       "        vertical-align: middle;\n",
       "    }\n",
       "\n",
       "    .dataframe tbody tr th {\n",
       "        vertical-align: top;\n",
       "    }\n",
       "\n",
       "    .dataframe thead th {\n",
       "        text-align: right;\n",
       "    }\n",
       "</style>\n",
       "<table border=\"1\" class=\"dataframe\">\n",
       "  <thead>\n",
       "    <tr style=\"text-align: right;\">\n",
       "      <th></th>\n",
       "      <th>f0</th>\n",
       "      <th>f1</th>\n",
       "      <th>f2</th>\n",
       "      <th>product</th>\n",
       "    </tr>\n",
       "  </thead>\n",
       "  <tbody>\n",
       "    <tr>\n",
       "      <td>count</td>\n",
       "      <td>100000.000000</td>\n",
       "      <td>100000.000000</td>\n",
       "      <td>100000.000000</td>\n",
       "      <td>100000.000000</td>\n",
       "    </tr>\n",
       "    <tr>\n",
       "      <td>mean</td>\n",
       "      <td>0.002023</td>\n",
       "      <td>-0.002081</td>\n",
       "      <td>2.495128</td>\n",
       "      <td>95.000000</td>\n",
       "    </tr>\n",
       "    <tr>\n",
       "      <td>std</td>\n",
       "      <td>1.732045</td>\n",
       "      <td>1.730417</td>\n",
       "      <td>3.473445</td>\n",
       "      <td>44.749921</td>\n",
       "    </tr>\n",
       "    <tr>\n",
       "      <td>min</td>\n",
       "      <td>-8.760004</td>\n",
       "      <td>-7.084020</td>\n",
       "      <td>-11.970335</td>\n",
       "      <td>0.000000</td>\n",
       "    </tr>\n",
       "    <tr>\n",
       "      <td>25%</td>\n",
       "      <td>-1.162288</td>\n",
       "      <td>-1.174820</td>\n",
       "      <td>0.130359</td>\n",
       "      <td>59.450441</td>\n",
       "    </tr>\n",
       "    <tr>\n",
       "      <td>50%</td>\n",
       "      <td>0.009424</td>\n",
       "      <td>-0.009482</td>\n",
       "      <td>2.484236</td>\n",
       "      <td>94.925613</td>\n",
       "    </tr>\n",
       "    <tr>\n",
       "      <td>75%</td>\n",
       "      <td>1.158535</td>\n",
       "      <td>1.163678</td>\n",
       "      <td>4.858794</td>\n",
       "      <td>130.595027</td>\n",
       "    </tr>\n",
       "    <tr>\n",
       "      <td>max</td>\n",
       "      <td>7.238262</td>\n",
       "      <td>7.844801</td>\n",
       "      <td>16.739402</td>\n",
       "      <td>190.029838</td>\n",
       "    </tr>\n",
       "  </tbody>\n",
       "</table>\n",
       "</div>"
      ],
      "text/plain": [
       "                  f0             f1             f2        product\n",
       "count  100000.000000  100000.000000  100000.000000  100000.000000\n",
       "mean        0.002023      -0.002081       2.495128      95.000000\n",
       "std         1.732045       1.730417       3.473445      44.749921\n",
       "min        -8.760004      -7.084020     -11.970335       0.000000\n",
       "25%        -1.162288      -1.174820       0.130359      59.450441\n",
       "50%         0.009424      -0.009482       2.484236      94.925613\n",
       "75%         1.158535       1.163678       4.858794     130.595027\n",
       "max         7.238262       7.844801      16.739402     190.029838"
      ]
     },
     "execution_count": 13,
     "metadata": {},
     "output_type": "execute_result"
    }
   ],
   "source": [
    "data_reg_2.describe()"
   ]
  },
  {
   "cell_type": "code",
   "execution_count": 14,
   "metadata": {},
   "outputs": [
    {
     "data": {
      "text/plain": [
       "0"
      ]
     },
     "execution_count": 14,
     "metadata": {},
     "output_type": "execute_result"
    }
   ],
   "source": [
    "data_reg_2.duplicated().sum()"
   ]
  },
  {
   "cell_type": "code",
   "execution_count": 15,
   "metadata": {},
   "outputs": [],
   "source": [
    "# Столбец с идентификаторами на всякий случай сохраним в отдельной таблице\n",
    "data_id_0 = data_reg_0['id']\n",
    "data_id_1 = data_reg_1['id']\n",
    "data_id_2 = data_reg_2['id']"
   ]
  },
  {
   "cell_type": "code",
   "execution_count": 16,
   "metadata": {},
   "outputs": [],
   "source": [
    "# Удаляем ненужный столбец id из датасетов (можно объединить с действиями в следующей ячейке, но для прозрачности оставим отдельно)\n",
    "data_reg_0 = data_reg_0.drop('id', axis=1)\n",
    "data_reg_1 = data_reg_1.drop('id', axis=1)\n",
    "data_reg_2 = data_reg_2.drop('id', axis=1)"
   ]
  },
  {
   "cell_type": "code",
   "execution_count": 17,
   "metadata": {},
   "outputs": [],
   "source": [
    "# Разделяем признаки и целевой признак\n",
    "target_0 = data_reg_0['product']\n",
    "features_0 = data_reg_0.drop('product', axis=1)\n",
    "\n",
    "target_1 = data_reg_1['product']\n",
    "features_1 = data_reg_1.drop('product', axis=1)\n",
    "\n",
    "target_2 = data_reg_2['product']\n",
    "features_2 = data_reg_2.drop('product', axis=1)"
   ]
  },
  {
   "cell_type": "markdown",
   "metadata": {},
   "source": [
    "## Выводы по шагу 1\n",
    "Что сделано:\n",
    "1. Загрузили 3 датасета по 3 регионам, в каждом 100 000 объектов, дубликатов и пропусков нет.\n",
    "2. Столбцы с идентификаторами скважин вынесли в отдельные датафреймы и удалили из основных датафреймов.\n",
    "3. Разделили в датасетах признаки (f0,f1,f2) и целевой признак (product)."
   ]
  },
  {
   "cell_type": "markdown",
   "metadata": {},
   "source": [
    "# 2. Обучение и проверка модели"
   ]
  },
  {
   "cell_type": "code",
   "execution_count": 18,
   "metadata": {},
   "outputs": [],
   "source": [
    "# Разбиваем датасетs на выборки (обучающую, проверочную)\n",
    "features_train_0, features_valid_0, target_train_0, target_valid_0 = train_test_split(features_0, target_0, test_size=0.25, random_state=12345)\n",
    "features_train_1, features_valid_1, target_train_1, target_valid_1 = train_test_split(features_1, target_1, test_size=0.25, random_state=12345)\n",
    "features_train_2, features_valid_2, target_train_2, target_valid_2 = train_test_split(features_2, target_2, test_size=0.25, random_state=12345)"
   ]
  },
  {
   "cell_type": "code",
   "execution_count": 19,
   "metadata": {},
   "outputs": [],
   "source": [
    "# Функция обучения и предсказаний модели, вычисления RMSE\n",
    "def mse(features_train,target_train,features_valid,target_valid,reg):\n",
    "    model = LinearRegression()\n",
    "    model.fit(features_train, target_train)\n",
    "    pred_valid_ = model.predict(features_valid)\n",
    "    pred_valid_ = pd.Series(pred_valid_, index=features_valid.index)\n",
    "    mse_ = mean_squared_error(target_valid, pred_valid_)\n",
    "\n",
    "    print('РЕГИОН',reg)\n",
    "    print(\"R2=\",model.score(features_valid, target_valid))\n",
    "    print(\"MSE =\", mse_)\n",
    "    print(\"RMSE =\", mse_ ** 0.5)\n",
    "    print(\"Средний запас предсказанного сырья в регионе, тыс. баррелей =\", round(pred_valid_.mean(),2),\"(по факту=\",round(target_valid.mean(),2),\")\\n\")\n",
    "    return pred_valid_ \n"
   ]
  },
  {
   "cell_type": "code",
   "execution_count": 20,
   "metadata": {},
   "outputs": [
    {
     "name": "stdout",
     "output_type": "stream",
     "text": [
      "РЕГИОН 0\n",
      "R2= 0.27994321524487786\n",
      "MSE = 1412.2129364399243\n",
      "RMSE = 37.5794217150813\n",
      "Средний запас предсказанного сырья в регионе, тыс. баррелей = 92.59 (по факту= 92.08 )\n",
      "\n",
      "РЕГИОН 1\n",
      "R2= 0.9996233978805126\n",
      "MSE = 0.7976263360391139\n",
      "RMSE = 0.893099286775616\n",
      "Средний запас предсказанного сырья в регионе, тыс. баррелей = 68.73 (по факту= 68.72 )\n",
      "\n",
      "РЕГИОН 2\n",
      "R2= 0.20524758386040443\n",
      "MSE = 1602.3775813236196\n",
      "RMSE = 40.02970873393434\n",
      "Средний запас предсказанного сырья в регионе, тыс. баррелей = 94.97 (по факту= 94.88 )\n",
      "\n"
     ]
    }
   ],
   "source": [
    "pred_valid_0 = mse(features_train_0,target_train_0,features_valid_0,target_valid_0,0)\n",
    "pred_valid_1 = mse(features_train_1,target_train_1,features_valid_1,target_valid_1,1)\n",
    "pred_valid_2 = mse(features_train_2,target_train_2,features_valid_2,target_valid_2,2)"
   ]
  },
  {
   "cell_type": "code",
   "execution_count": 21,
   "metadata": {},
   "outputs": [
    {
     "data": {
      "text/plain": [
       "71751     95.894952\n",
       "80493     77.572583\n",
       "2655      77.892640\n",
       "53233     90.175134\n",
       "91141     70.510088\n",
       "            ...    \n",
       "12581    103.037104\n",
       "18456     85.403255\n",
       "73035     61.509833\n",
       "63834    118.180397\n",
       "43558    118.169392\n",
       "Length: 25000, dtype: float64"
      ]
     },
     "execution_count": 21,
     "metadata": {},
     "output_type": "execute_result"
    }
   ],
   "source": [
    "# Посмотрим, что там в предсказаниях\n",
    "pred_valid_0"
   ]
  },
  {
   "cell_type": "markdown",
   "metadata": {},
   "source": [
    "## Выводы по шагу 2\n",
    "Что сделано:\n",
    "В каждом регионе:\n",
    "1. Разбили данные на обучающую и валидационную выборки в соотношении 75:25.\n",
    "2. Обучили модель линейной регрессией и сделали предсказания на валидационной выборке.\n",
    "3. Сохранили предсказания и правильные ответы на валидационной выборке.\n",
    "4. Вывели на экран средний запас предсказанного сырья и RMSE модели.\n",
    "\n",
    "Судя по RMSE и R2 лучше всего обучилась модель по датасету региона 1.\n",
    "При этом в регионе 1 средний запас предсказанного сырья на треть меньше чем в регионах 0 и 2"
   ]
  },
  {
   "cell_type": "markdown",
   "metadata": {},
   "source": [
    "# 3. Подготовка к расчёту прибыли"
   ]
  },
  {
   "cell_type": "code",
   "execution_count": 22,
   "metadata": {},
   "outputs": [
    {
     "name": "stdout",
     "output_type": "stream",
     "text": [
      "Бюджет на одну скважину, руб.: 50000000.0\n",
      "\n",
      "Минимальный объем сырья в скважине для безубыточной разработки (тыс. баррелей): 111.111111\n"
     ]
    }
   ],
   "source": [
    "# Ключевые значения для расчетов\n",
    "\n",
    "budget_region = 10000000000 #бюджет на разработку региона\n",
    "research_points = 500 #количество исследуемых в регионе точек\n",
    "best_points = 200 #количество отбираемых точек\n",
    "barrel_cost = 450000 #стоимость 1000 баррелей (1 единицы продукта) в рублях\n",
    "loss = 0.025 #максимальная вероятность убытка\n",
    "boot_size = 1000 #количество выборок для bootstrap\n",
    "\n",
    "budget_point = budget_region/best_points #бюджет на одну скважину\n",
    "print('Бюджет на одну скважину, руб.:',budget_point)\n",
    "min_product = round(budget_point/barrel_cost,6) #минимальный объем сырья в скважине для безубыточной разработки (в тысячах баррелей)\n",
    "print('\\nМинимальный объем сырья в скважине для безубыточной разработки (тыс. баррелей):',min_product)"
   ]
  },
  {
   "cell_type": "markdown",
   "metadata": {},
   "source": [
    "## Выводы по шагу 3\n",
    "Что сделано:\n",
    "1. Сохранили ключевые значения в отдельных переменных:\n",
    "\n",
    "    *budget_region = 10000000000* - бюджет на разработку региона    \n",
    "    *research_points = 500* - количество исследуемых в регионе точек    \n",
    "    *best_points = 200* - количество отбираемых точек    \n",
    "    *barrel_cost = 450000* - стоимость 1000 баррелей (1 единицы продукта) в рублях    \n",
    "    *loss = 0.025* - максимальная вероятность убытка    \n",
    "    *boot_size = 1000* - количество выборок для bootstrap\n",
    "    \n",
    "    \n",
    "2. Посчитали бюджет на одну скважину, исходя из бюджета на регион (10 млрд. руб) и количества разрабатываемых скважин (200) = 50 млн. руб.\n",
    "\n",
    "\n",
    "3. Рассчитали достаточный объём сырья для безубыточной (чтобы хотя бы выйти в ноль) разработки новой скважины: 111.111111 тыс. баррелей. \n",
    "\n",
    "Средний запас предсказанного сырья в каждом регионе меньше объема, достаточного для безубыточной разработки скважины - т.е., не все скважины будут безубыточны.\n"
   ]
  },
  {
   "cell_type": "markdown",
   "metadata": {},
   "source": [
    "# 4. Функция для расчёта прибыли по выбранным скважинам и предсказаниям модели"
   ]
  },
  {
   "cell_type": "code",
   "execution_count": 23,
   "metadata": {},
   "outputs": [],
   "source": [
    "# Рандомайзер\n",
    "state = np.random.RandomState(12345)"
   ]
  },
  {
   "cell_type": "code",
   "execution_count": 24,
   "metadata": {},
   "outputs": [],
   "source": [
    "def Profit(target_valid,pred_valid,reg,out):\n",
    "    # Берем 500 случайных скважин из предсказаний\n",
    "    random_research_pred = pred_valid.sample(research_points, random_state=state)\n",
    "    # Из них берем 200 лучших по предсказаниям\n",
    "    best_research_pred = random_research_pred.sort_values(ascending = False)[:best_points]\n",
    "    # Считаем суммарный объем сырья по валидационной выборке\n",
    "    best_product_sum_target = target_valid[best_research_pred.index].sum()\n",
    "    # Считаем прибыль от 200 скважин (выручка минус стоимость разработки)\n",
    "    profit = best_product_sum_target*barrel_cost - budget_region\n",
    "    if out == 1:\n",
    "        print('Суммарный объем сырья в 200 лучших скважинах из валидационной выборки, тыс. баррелей:',round(best_product_sum_target))\n",
    "        print('Прибыль от 200 лучших скважин в регионе',reg,', млн. руб:',round(profit/1000000),'\\n')\n",
    "    return profit"
   ]
  },
  {
   "cell_type": "code",
   "execution_count": 25,
   "metadata": {},
   "outputs": [
    {
     "name": "stdout",
     "output_type": "stream",
     "text": [
      "Суммарный объем сырья в 200 лучших скважинах из валидационной выборки, тыс. баррелей: 23731.0\n",
      "Прибыль от 200 лучших скважин в регионе 0 , млн. руб: 679.0 \n",
      "\n",
      "Суммарный объем сырья в 200 лучших скважинах из валидационной выборки, тыс. баррелей: 22784.0\n",
      "Прибыль от 200 лучших скважин в регионе 1 , млн. руб: 253.0 \n",
      "\n",
      "Суммарный объем сырья в 200 лучших скважинах из валидационной выборки, тыс. баррелей: 23315.0\n",
      "Прибыль от 200 лучших скважин в регионе 2 , млн. руб: 492.0 \n",
      "\n"
     ]
    }
   ],
   "source": [
    "profit_0 = Profit(target_valid_0,pred_valid_0,0,1)\n",
    "profit_1 = Profit(target_valid_1,pred_valid_1,1,1)\n",
    "profit_2 = Profit(target_valid_2,pred_valid_2,2,1)"
   ]
  },
  {
   "cell_type": "code",
   "execution_count": 26,
   "metadata": {},
   "outputs": [
    {
     "name": "stdout",
     "output_type": "stream",
     "text": [
      "Лучший по прибыли регион: 0\n"
     ]
    }
   ],
   "source": [
    "reg_profit = pd.Series([profit_0,profit_1,profit_2])\n",
    "best_reg = reg_profit.sort_values(ascending = False).index[0]\n",
    "print('Лучший по прибыли регион:',best_reg)"
   ]
  },
  {
   "cell_type": "markdown",
   "metadata": {},
   "source": [
    "## Выводы по шагу 4\n",
    "Что сделано: \n",
    "По каждому региону:\n",
    "1. Из 25000 предсказаний взяли 500 случайных.\n",
    "2. Из 500 случайных предсказаний выбрали 200 лучших по объему сырья скважин\n",
    "3. Просуммировали объем сырья по правильным ответам с индексами отобранных 200 лучших предсказаний\n",
    "4. Рассчитали прибыль для полученного объёма сырья. В данном случае поскольку каждый раз 500 скважин для исследования берутся случайным образом, то и результат (прибыль от 200 лучших скважин в регионе) каждый раз получается разным."
   ]
  },
  {
   "cell_type": "markdown",
   "metadata": {},
   "source": [
    "# 5. Расчёт прибыли и рисков \n",
    "Переменные, которые мы ранее определили:\n",
    "\n",
    "*budget_region = 10000000000* - бюджет на разработку региона\n",
    "\n",
    "*research_points = 500* - количество исследуемых в регионе точек\n",
    "\n",
    "*best_points = 200* - количество отбираемых точек\n",
    "\n",
    "*barrel_cost = 450000* - стоимость 1000 баррелей (1 единицы продукта) в рублях\n",
    "\n",
    "*loss = 0.025* - максимальная вероятность убытка\n",
    "\n",
    "*boot_size = 1000* - количество выборок для bootstrap"
   ]
  },
  {
   "cell_type": "code",
   "execution_count": 27,
   "metadata": {},
   "outputs": [],
   "source": [
    "# Применим технику Bootstrap с 1000 выборок, чтобы найти распределение прибыли.# Применим технику Bootstrap с 1000 выборок, чтобы найти распределение прибыли.\n",
    "def Bootstrap_Profit(target_valid,pred_valid,reg):\n",
    "    values = []\n",
    "    loss_reg = 0\n",
    "    for i in range(boot_size): #boot_size = 1000\n",
    "        \n",
    "        profit = Profit(target_valid,pred_valid,reg,0)\n",
    "        \n",
    "        values.append(profit)\n",
    "        \n",
    "        #если прибыль отрицательная, считаем за убыток\n",
    "        if profit < 0:\n",
    "            loss_reg += 1\n",
    "            \n",
    "    values = pd.Series(values)\n",
    "\n",
    "    print('РЕГИОН',reg)\n",
    "\n",
    "    profit_mean = values.mean()\n",
    "    print('Средняя прибыль, млн. руб:',round(profit_mean/1000000))\n",
    "    \n",
    "    lower = values.quantile(0.025)\n",
    "    upper =values.quantile(0.975) \n",
    "    print('95% доверительный интервал:',round(lower/1000000),'-',round(upper/1000000))\n",
    "    proba_loss = loss_reg/boot_size #boot_size = 1000\n",
    "    print('Вероятность убытков:',proba_loss)\n",
    "    if proba_loss < loss: #loss = 0.025\n",
    "        print('Вероятность убытков меньше',loss,'\\n')\n",
    "    else:\n",
    "        print('Вероятность убытков не меньше',loss,'\\n')    \n",
    "\n",
    "    return profit_mean,proba_loss\n"
   ]
  },
  {
   "cell_type": "code",
   "execution_count": 28,
   "metadata": {},
   "outputs": [
    {
     "name": "stdout",
     "output_type": "stream",
     "text": [
      "РЕГИОН 0\n",
      "Средняя прибыль, млн. руб: 381.0\n",
      "95% доверительный интервал: -127.0 - 880.0\n",
      "Вероятность убытков: 0.072\n",
      "Вероятность убытков не меньше 0.025 \n",
      "\n",
      "РЕГИОН 1\n",
      "Средняя прибыль, млн. руб: 455.0\n",
      "95% доверительный интервал: 47.0 - 840.0\n",
      "Вероятность убытков: 0.013\n",
      "Вероятность убытков меньше 0.025 \n",
      "\n",
      "РЕГИОН 2\n",
      "Средняя прибыль, млн. руб: -3824.0\n",
      "95% доверительный интервал: -4415.0 - -3247.0\n",
      "Вероятность убытков: 1.0\n",
      "Вероятность убытков не меньше 0.025 \n",
      "\n"
     ]
    }
   ],
   "source": [
    "# Найдем среднюю прибыль, 95%-й доверительный интервал и риск убытков\n",
    "profit_mean_0,proba_loss_0 = Bootstrap_Profit(target_valid_0,pred_valid_0,0)\n",
    "profit_mean_1,proba_loss_1 = Bootstrap_Profit(target_valid_1,pred_valid_1,1)\n",
    "profit_mean_2,proba_loss_2 = Bootstrap_Profit(target_valid_1,pred_valid_2,2)"
   ]
  },
  {
   "cell_type": "code",
   "execution_count": 29,
   "metadata": {},
   "outputs": [
    {
     "name": "stdout",
     "output_type": "stream",
     "text": [
      "Регион, где можно получить максимальную прибыль: 1\n"
     ]
    }
   ],
   "source": [
    "# После оценки рисков оставим лишь те регионы, в которых вероятность убытков меньше 2.5%, среди них выберем регион с наибольшей средней прибылью.\n",
    "data_reg_profit_loss = pd.DataFrame({'reg': [0,1,2], 'profit_mean': [profit_mean_0,profit_mean_1,profit_mean_2], 'proba_loss': [proba_loss_0,proba_loss_1,proba_loss_2]})\n",
    "\n",
    "best_of_the_best = int(data_reg_profit_loss.query('proba_loss < @loss').sort_values(by='profit_mean',ascending = False).iloc[0]['reg'])\n",
    "print('Регион, где можно получить максимальную прибыль:',best_of_the_best)"
   ]
  },
  {
   "cell_type": "markdown",
   "metadata": {},
   "source": [
    "## Выводы по шагу 5\n",
    "Что сделано:\n",
    "Для каждого региона:\n",
    "1. Применили на правильных ответах технику Bootstrap с 1000 выборок.\n",
    "2. Нашли среднюю прибыль, 95%-й доверительный интервал и риск убытков.\n",
    "\n",
    "###### Лучший регион для разработки скважин: 1. Здесь максимальная средняя прибыль и при этом риск убытков меньше 2.5%."
   ]
  },
  {
   "cell_type": "code",
   "execution_count": null,
   "metadata": {},
   "outputs": [],
   "source": []
  }
 ],
 "metadata": {
  "kernelspec": {
   "display_name": "Python 3",
   "language": "python",
   "name": "python3"
  },
  "language_info": {
   "codemirror_mode": {
    "name": "ipython",
    "version": 3
   },
   "file_extension": ".py",
   "mimetype": "text/x-python",
   "name": "python",
   "nbconvert_exporter": "python",
   "pygments_lexer": "ipython3",
   "version": "3.7.8"
  }
 },
 "nbformat": 4,
 "nbformat_minor": 2
}
