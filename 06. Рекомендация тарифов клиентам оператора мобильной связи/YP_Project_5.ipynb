{
 "cells": [
  {
   "cell_type": "markdown",
   "metadata": {},
   "source": [
    "# Рекомендация тарифов клиентам сотовой компании"
   ]
  },
  {
   "cell_type": "markdown",
   "metadata": {},
   "source": [
    "## Описание проекта\n",
    "Оператору мобильной связи требуется система, анализирующая поведение клиентов на архивных тарифах для предложения им новых тарифов: «Смарт» или «Ультра». Есть данные о клиентах, уже перешедших на эти тарифы. Нужно построить модель для задачи классификации, которая выберет подходящий тариф. "
   ]
  },
  {
   "cell_type": "markdown",
   "metadata": {},
   "source": [
    "## План работ\n",
    "1. Открыть файл с данным, изучить его.\n",
    "2. Разделить исходные данные на обучающую, валидационную и тестовую выборки.\n",
    "3. Исследовать качество разных моделей, меняя гиперпараметры. Кратко написать выводы исследования.\n",
    "4. Проверить качество модели на тестовой выборке.\n",
    "5. Дополнительно: проверить модели на вменяемость. "
   ]
  },
  {
   "cell_type": "markdown",
   "metadata": {},
   "source": [
    "## Описание данных\n",
    "* *сalls* — количество звонков,\n",
    "* *minutes* — суммарная длительность звонков в минутах,\n",
    "* *messages* — количество sms-сообщений,\n",
    "* *mb_used* — израсходованный интернет-трафик в Мб,\n",
    "* *is_ultra* — каким тарифом пользовался в течение месяца («Ультра» — 1, «Смарт» — 0)."
   ]
  },
  {
   "cell_type": "markdown",
   "metadata": {},
   "source": [
    "## 1. Открываем и изучаем файл данных"
   ]
  },
  {
   "cell_type": "code",
   "execution_count": 1,
   "metadata": {},
   "outputs": [],
   "source": [
    "# подгружаем библиотеки\n",
    "import pandas as pd\n",
    "\n",
    "import numpy as np\n",
    "\n",
    "from sklearn.model_selection import train_test_split\n",
    "\n",
    "from sklearn.tree import DecisionTreeClassifier\n",
    "from sklearn.tree import plot_tree\n",
    "\n",
    "from sklearn.ensemble import RandomForestClassifier\n",
    "\n",
    "from sklearn.metrics import accuracy_score\n",
    "from sklearn.metrics import precision_score\n",
    "from sklearn.metrics import recall_score\n",
    "\n",
    "import joblib\n",
    "\n",
    "import matplotlib.pyplot as plt\n"
   ]
  },
  {
   "cell_type": "code",
   "execution_count": 2,
   "metadata": {},
   "outputs": [],
   "source": [
    "# читаем датасет\n",
    "data_users = pd.read_csv('/datasets/users_behavior.csv')"
   ]
  },
  {
   "cell_type": "code",
   "execution_count": 3,
   "metadata": {},
   "outputs": [
    {
     "name": "stdout",
     "output_type": "stream",
     "text": [
      "<class 'pandas.core.frame.DataFrame'>\n",
      "RangeIndex: 3214 entries, 0 to 3213\n",
      "Data columns (total 5 columns):\n",
      "calls       3214 non-null float64\n",
      "minutes     3214 non-null float64\n",
      "messages    3214 non-null float64\n",
      "mb_used     3214 non-null float64\n",
      "is_ultra    3214 non-null int64\n",
      "dtypes: float64(4), int64(1)\n",
      "memory usage: 125.7 KB\n"
     ]
    }
   ],
   "source": [
    "data_users.info()"
   ]
  },
  {
   "cell_type": "code",
   "execution_count": 4,
   "metadata": {},
   "outputs": [
    {
     "data": {
      "text/html": [
       "<div>\n",
       "<style scoped>\n",
       "    .dataframe tbody tr th:only-of-type {\n",
       "        vertical-align: middle;\n",
       "    }\n",
       "\n",
       "    .dataframe tbody tr th {\n",
       "        vertical-align: top;\n",
       "    }\n",
       "\n",
       "    .dataframe thead th {\n",
       "        text-align: right;\n",
       "    }\n",
       "</style>\n",
       "<table border=\"1\" class=\"dataframe\">\n",
       "  <thead>\n",
       "    <tr style=\"text-align: right;\">\n",
       "      <th></th>\n",
       "      <th>calls</th>\n",
       "      <th>minutes</th>\n",
       "      <th>messages</th>\n",
       "      <th>mb_used</th>\n",
       "      <th>is_ultra</th>\n",
       "    </tr>\n",
       "  </thead>\n",
       "  <tbody>\n",
       "    <tr>\n",
       "      <td>count</td>\n",
       "      <td>3214.000000</td>\n",
       "      <td>3214.000000</td>\n",
       "      <td>3214.000000</td>\n",
       "      <td>3214.000000</td>\n",
       "      <td>3214.000000</td>\n",
       "    </tr>\n",
       "    <tr>\n",
       "      <td>mean</td>\n",
       "      <td>63.038892</td>\n",
       "      <td>438.208787</td>\n",
       "      <td>38.281269</td>\n",
       "      <td>17207.673836</td>\n",
       "      <td>0.306472</td>\n",
       "    </tr>\n",
       "    <tr>\n",
       "      <td>std</td>\n",
       "      <td>33.236368</td>\n",
       "      <td>234.569872</td>\n",
       "      <td>36.148326</td>\n",
       "      <td>7570.968246</td>\n",
       "      <td>0.461100</td>\n",
       "    </tr>\n",
       "    <tr>\n",
       "      <td>min</td>\n",
       "      <td>0.000000</td>\n",
       "      <td>0.000000</td>\n",
       "      <td>0.000000</td>\n",
       "      <td>0.000000</td>\n",
       "      <td>0.000000</td>\n",
       "    </tr>\n",
       "    <tr>\n",
       "      <td>25%</td>\n",
       "      <td>40.000000</td>\n",
       "      <td>274.575000</td>\n",
       "      <td>9.000000</td>\n",
       "      <td>12491.902500</td>\n",
       "      <td>0.000000</td>\n",
       "    </tr>\n",
       "    <tr>\n",
       "      <td>50%</td>\n",
       "      <td>62.000000</td>\n",
       "      <td>430.600000</td>\n",
       "      <td>30.000000</td>\n",
       "      <td>16943.235000</td>\n",
       "      <td>0.000000</td>\n",
       "    </tr>\n",
       "    <tr>\n",
       "      <td>75%</td>\n",
       "      <td>82.000000</td>\n",
       "      <td>571.927500</td>\n",
       "      <td>57.000000</td>\n",
       "      <td>21424.700000</td>\n",
       "      <td>1.000000</td>\n",
       "    </tr>\n",
       "    <tr>\n",
       "      <td>max</td>\n",
       "      <td>244.000000</td>\n",
       "      <td>1632.060000</td>\n",
       "      <td>224.000000</td>\n",
       "      <td>49745.730000</td>\n",
       "      <td>1.000000</td>\n",
       "    </tr>\n",
       "  </tbody>\n",
       "</table>\n",
       "</div>"
      ],
      "text/plain": [
       "             calls      minutes     messages       mb_used     is_ultra\n",
       "count  3214.000000  3214.000000  3214.000000   3214.000000  3214.000000\n",
       "mean     63.038892   438.208787    38.281269  17207.673836     0.306472\n",
       "std      33.236368   234.569872    36.148326   7570.968246     0.461100\n",
       "min       0.000000     0.000000     0.000000      0.000000     0.000000\n",
       "25%      40.000000   274.575000     9.000000  12491.902500     0.000000\n",
       "50%      62.000000   430.600000    30.000000  16943.235000     0.000000\n",
       "75%      82.000000   571.927500    57.000000  21424.700000     1.000000\n",
       "max     244.000000  1632.060000   224.000000  49745.730000     1.000000"
      ]
     },
     "execution_count": 4,
     "metadata": {},
     "output_type": "execute_result"
    }
   ],
   "source": [
    "data_users.describe()"
   ]
  },
  {
   "cell_type": "code",
   "execution_count": 5,
   "metadata": {},
   "outputs": [
    {
     "data": {
      "text/html": [
       "<div>\n",
       "<style scoped>\n",
       "    .dataframe tbody tr th:only-of-type {\n",
       "        vertical-align: middle;\n",
       "    }\n",
       "\n",
       "    .dataframe tbody tr th {\n",
       "        vertical-align: top;\n",
       "    }\n",
       "\n",
       "    .dataframe thead th {\n",
       "        text-align: right;\n",
       "    }\n",
       "</style>\n",
       "<table border=\"1\" class=\"dataframe\">\n",
       "  <thead>\n",
       "    <tr style=\"text-align: right;\">\n",
       "      <th></th>\n",
       "      <th>calls</th>\n",
       "      <th>minutes</th>\n",
       "      <th>messages</th>\n",
       "      <th>mb_used</th>\n",
       "      <th>is_ultra</th>\n",
       "    </tr>\n",
       "  </thead>\n",
       "  <tbody>\n",
       "    <tr>\n",
       "      <td>0</td>\n",
       "      <td>40.0</td>\n",
       "      <td>311.90</td>\n",
       "      <td>83.0</td>\n",
       "      <td>19915.42</td>\n",
       "      <td>0</td>\n",
       "    </tr>\n",
       "    <tr>\n",
       "      <td>1</td>\n",
       "      <td>85.0</td>\n",
       "      <td>516.75</td>\n",
       "      <td>56.0</td>\n",
       "      <td>22696.96</td>\n",
       "      <td>0</td>\n",
       "    </tr>\n",
       "    <tr>\n",
       "      <td>2</td>\n",
       "      <td>77.0</td>\n",
       "      <td>467.66</td>\n",
       "      <td>86.0</td>\n",
       "      <td>21060.45</td>\n",
       "      <td>0</td>\n",
       "    </tr>\n",
       "    <tr>\n",
       "      <td>3</td>\n",
       "      <td>106.0</td>\n",
       "      <td>745.53</td>\n",
       "      <td>81.0</td>\n",
       "      <td>8437.39</td>\n",
       "      <td>1</td>\n",
       "    </tr>\n",
       "    <tr>\n",
       "      <td>4</td>\n",
       "      <td>66.0</td>\n",
       "      <td>418.74</td>\n",
       "      <td>1.0</td>\n",
       "      <td>14502.75</td>\n",
       "      <td>0</td>\n",
       "    </tr>\n",
       "  </tbody>\n",
       "</table>\n",
       "</div>"
      ],
      "text/plain": [
       "   calls  minutes  messages   mb_used  is_ultra\n",
       "0   40.0   311.90      83.0  19915.42         0\n",
       "1   85.0   516.75      56.0  22696.96         0\n",
       "2   77.0   467.66      86.0  21060.45         0\n",
       "3  106.0   745.53      81.0   8437.39         1\n",
       "4   66.0   418.74       1.0  14502.75         0"
      ]
     },
     "execution_count": 5,
     "metadata": {},
     "output_type": "execute_result"
    }
   ],
   "source": [
    "data_users.head()"
   ]
  },
  {
   "cell_type": "code",
   "execution_count": 6,
   "metadata": {},
   "outputs": [
    {
     "data": {
      "text/plain": [
       "0    0.693528\n",
       "1    0.306472\n",
       "Name: is_ultra, dtype: float64"
      ]
     },
     "execution_count": 6,
     "metadata": {},
     "output_type": "execute_result"
    }
   ],
   "source": [
    "# смотрим, сколько пользователей на Ultra и сколько на Smart\n",
    "data_users['is_ultra'].value_counts()/len(data_users['is_ultra'])"
   ]
  },
  {
   "cell_type": "markdown",
   "metadata": {},
   "source": [
    "### Выводы по шагу 1\n",
    "Открыли и посмотрели файл с данными:\n",
    "* Всего 3214 объектов с 4 признаками: количество звонков, длительность звонков, количество СМС, интернет-трафик. \n",
    "* Целевой признак, который надо предсказать - тариф, используемый клиентом.\n",
    "* Пропусков в данных нет, предобработка не требуется.\n",
    "* Из пользователей, попавших в датасет, 69% используют тариф \"Смарт\" и 31% использует тариф \"Ультра\""
   ]
  },
  {
   "cell_type": "markdown",
   "metadata": {},
   "source": [
    "## 2. Разбиваем данные на выборки"
   ]
  },
  {
   "cell_type": "code",
   "execution_count": 7,
   "metadata": {},
   "outputs": [],
   "source": [
    "# делим датасет на обучающую, валидационную, тестовую выборки\n",
    "data_train, data_test_valid = train_test_split(data_users, test_size=0.4, random_state=12345)\n",
    "data_valid, data_test = train_test_split(data_test_valid, test_size=0.5, random_state=12345)"
   ]
  },
  {
   "cell_type": "code",
   "execution_count": 8,
   "metadata": {},
   "outputs": [
    {
     "name": "stdout",
     "output_type": "stream",
     "text": [
      "Размер обучающей выборки: 1928\n",
      "Размер валидационной выборки: 643\n",
      "Размер тестовой выборки: 643\n"
     ]
    }
   ],
   "source": [
    "print('Размер обучающей выборки:',len(data_train))\n",
    "print('Размер валидационной выборки:',len(data_test))\n",
    "print('Размер тестовой выборки:',len(data_valid))"
   ]
  },
  {
   "cell_type": "code",
   "execution_count": 9,
   "metadata": {},
   "outputs": [],
   "source": [
    "features_train = data_train.drop(['is_ultra'], axis=1)\n",
    "target_train = data_train['is_ultra']\n",
    "\n",
    "features_valid = data_valid.drop(['is_ultra'], axis=1)\n",
    "target_valid = data_valid['is_ultra']\n",
    "\n",
    "features_test = data_test.drop(['is_ultra'], axis=1)\n",
    "target_test = data_test['is_ultra']"
   ]
  },
  {
   "cell_type": "markdown",
   "metadata": {},
   "source": [
    "### Выводы по шагу 2\n",
    "1. Разбили датасет на 3 выборки: обучающую, валидационную (проверочную) и тестовую в пропорции 3:1:1. Размеры выборок:\n",
    "    * обучающей: 1928 объектов;\n",
    "    * валидационной: 643 объекта;\n",
    "    * тестовой: 643 объекта.\n",
    "    \n",
    "    \n",
    "2. Для каждой выборки признаки выделили в переменные features_train, features_valid, features_test\n",
    "\n",
    "\n",
    "3. Целевые признаки каждой выборки выделили в переменные target_train, target_valid, target_test"
   ]
  },
  {
   "cell_type": "markdown",
   "metadata": {},
   "source": [
    "## 3. Исследуем модели"
   ]
  },
  {
   "cell_type": "code",
   "execution_count": 10,
   "metadata": {},
   "outputs": [
    {
     "name": "stdout",
     "output_type": "stream",
     "text": [
      "РЕШАЮЩЕЕ ДЕРЕВО\n",
      "Максимальная доля правильных ответов для валидационной выборки: 0.7853810264385692 при глубине дерева: 3\n"
     ]
    }
   ],
   "source": [
    "# у нас задача классификации, потому используем классификационные алгоритмы обучения модели\n",
    "# обучаем модель на решающем дереве \n",
    "# смотрим, при какой глубине дерева получим максимальную долю правильных ответов\n",
    "\n",
    "fin_accu_tree = 0\n",
    "fin_depth = 1\n",
    "\n",
    "for depth in range(1, 26, 1):\n",
    "    model_tree = DecisionTreeClassifier(random_state=12345, max_depth=depth)\n",
    "    model_tree.fit(features_train,target_train)\n",
    "    \n",
    "    predictions_valid = model_tree.predict(features_valid)\n",
    "    predictions_valid = pd.Series(predictions_valid, index=features_valid.index)\n",
    "    accuracy_valid = accuracy_score(target_valid, predictions_valid)\n",
    "    \n",
    "    #для визуализации\n",
    "    if depth == 1:\n",
    "        tree_list=[[depth,accuracy_valid]]\n",
    "    else:\n",
    "        tree_list.append([depth,accuracy_valid])\n",
    "    \n",
    "#    print('max_depth:',depth,'accuracy_valid:',accuracy_valid)\n",
    "\n",
    "    #отбор\n",
    "    if accuracy_valid > fin_accu_tree:\n",
    "        fin_accu_tree = accuracy_valid\n",
    "        fin_depth = depth\n",
    "        joblib.dump(model_tree, 'model_tree.joblib')\n",
    "        fin_predictions_tree = predictions_valid\n",
    "        \n",
    "print('РЕШАЮЩЕЕ ДЕРЕВО')\n",
    "print('Максимальная доля правильных ответов для валидационной выборки:',fin_accu_tree,'при глубине дерева:',fin_depth)"
   ]
  },
  {
   "cell_type": "code",
   "execution_count": 11,
   "metadata": {},
   "outputs": [
    {
     "data": {
      "text/plain": [
       "<matplotlib.axes._subplots.AxesSubplot at 0x7f13889986d0>"
      ]
     },
     "execution_count": 11,
     "metadata": {},
     "output_type": "execute_result"
    },
    {
     "data": {
      "image/png": "[encoded data removed]",
      "text/plain": [
       "<Figure size 1152x576 with 1 Axes>"
      ]
     },
     "metadata": {
      "needs_background": "light"
     },
     "output_type": "display_data"
    }
   ],
   "source": [
    "#немного визуализации\n",
    "data_tree = pd.DataFrame(tree_list,columns=['depth','accuracy'],dtype='float')\n",
    "data_tree.plot(figsize=(16,8), x = 'depth', y = 'accuracy',grid=True,title='График зависимости accuracy от глубины дерева')"
   ]
  },
  {
   "cell_type": "code",
   "execution_count": 12,
   "metadata": {},
   "outputs": [
    {
     "name": "stdout",
     "output_type": "stream",
     "text": [
      "Точность модели решающего дерева: 0.7217391304347827\n",
      "Полнота модели решающего дерева: 0.43915343915343913\n"
     ]
    }
   ],
   "source": [
    "# точность и полнота модели дерева\n",
    "print('Точность модели решающего дерева:',precision_score(target_valid, fin_predictions_tree, average='binary'))\n",
    "print('Полнота модели решающего дерева:',recall_score(target_valid, fin_predictions_tree, average='binary'))"
   ]
  },
  {
   "cell_type": "code",
   "execution_count": 13,
   "metadata": {},
   "outputs": [
    {
     "name": "stdout",
     "output_type": "stream",
     "text": [
      "Решающее дерево: доля правильных ответов для обучающей выборки: 0.8075726141078838\n",
      "Модель переобучена\n"
     ]
    }
   ],
   "source": [
    "#Посмотрим переобучение/недообучение для решающего дерева\n",
    "model_tree = joblib.load('model_tree.joblib')\n",
    "predictions_train = model_tree.predict(features_train)\n",
    "predictions_train = pd.Series(predictions_train, index=features_train.index)\n",
    "accuracy_train = accuracy_score(target_train, predictions_train)\n",
    "diff = accuracy_train-fin_accu_tree\n",
    "print('Решающее дерево: доля правильных ответов для обучающей выборки:',accuracy_train)\n",
    "if diff > 0:\n",
    "    print('Модель переобучена')\n",
    "else:\n",
    "    if diff < 0:\n",
    "        print('Модель недообучена')"
   ]
  },
  {
   "cell_type": "code",
   "execution_count": 14,
   "metadata": {},
   "outputs": [
    {
     "name": "stdout",
     "output_type": "stream",
     "text": [
      "СЛУЧАЙНЫЙ ЛЕС\n",
      "Максимальная доля правильных ответов для валидационной выборки: 0.8087091757387247 при количестве деревьев: 40 и глубине дерева: 8\n"
     ]
    }
   ],
   "source": [
    "# обучаем модель на случайном лесе \n",
    "# смотрим, при каком количестве деревьев и глубине дерева получим максимальную долю правильных ответов\n",
    "\n",
    "fin_accu_forest = 0\n",
    "fin_estim = 1\n",
    "fin_depth = 1\n",
    "for estim in range(1, 46, 1):\n",
    "    for depth in range(1, 11, 1):\n",
    "        model_forest = RandomForestClassifier(random_state=12345, n_estimators=estim,max_depth=depth)\n",
    "        model_forest.fit(features_train,target_train)\n",
    "        predictions_valid = model_forest.predict(features_valid)\n",
    "        predictions_valid = pd.Series(predictions_valid, index=features_valid.index)\n",
    "        accuracy_valid = accuracy_score(target_valid, predictions_valid)\n",
    "        \n",
    "        #для визуализации\n",
    "        if depth == 1 and estim == 1:\n",
    "            forest_list=[[depth,estim,accuracy_valid]]\n",
    "        else:\n",
    "            forest_list.append([depth,estim,accuracy_valid])\n",
    "            \n",
    "        #print('n_estimators:',estim,'accuracy:',accuracy_valid,'max_depth:',depth)\n",
    "        if accuracy_valid > fin_accu_forest:\n",
    "            fin_accu_forest = accuracy_valid\n",
    "            fin_estim = estim\n",
    "            fin_depth = depth\n",
    "            joblib.dump(model_forest, 'model_forest.joblib')\n",
    "            fin_predictions_forest = predictions_valid\n",
    "\n",
    "print('СЛУЧАЙНЫЙ ЛЕС')\n",
    "print('Максимальная доля правильных ответов для валидационной выборки:',fin_accu_forest,'при количестве деревьев:',fin_estim,'и глубине дерева:',fin_depth)"
   ]
  },
  {
   "cell_type": "code",
   "execution_count": 15,
   "metadata": {},
   "outputs": [
    {
     "data": {
      "text/plain": [
       "<matplotlib.axes._subplots.AxesSubplot at 0x7f1385f9ea50>"
      ]
     },
     "execution_count": 15,
     "metadata": {},
     "output_type": "execute_result"
    },
    {
     "data": {
      "image/png": "[encoded data removed]",
      "text/plain": [
       "<Figure size 1152x576 with 1 Axes>"
      ]
     },
     "metadata": {
      "needs_background": "light"
     },
     "output_type": "display_data"
    }
   ],
   "source": [
    "#немного визуализации\n",
    "data_forest = pd.DataFrame(forest_list,columns=['depth','estim','accuracy'],dtype='float')\n",
    "data_forest.groupby('estim')['accuracy'].max().plot(figsize=(16,8), x = 'estim', y = 'accuracy',grid=True,title='График зависимости accuracy от количества деревьев')"
   ]
  },
  {
   "cell_type": "code",
   "execution_count": 16,
   "metadata": {},
   "outputs": [
    {
     "name": "stdout",
     "output_type": "stream",
     "text": [
      "Точность модели случайного леса: 0.775\n",
      "Полнота модели случайного леса: 0.49206349206349204\n"
     ]
    }
   ],
   "source": [
    "# точность и полнота модели случайного леса\n",
    "print('Точность модели случайного леса:',precision_score(target_valid, fin_predictions_forest, average='binary'))\n",
    "print('Полнота модели случайного леса:',recall_score(target_valid, fin_predictions_forest, average='binary'))"
   ]
  },
  {
   "cell_type": "code",
   "execution_count": 17,
   "metadata": {},
   "outputs": [
    {
     "name": "stdout",
     "output_type": "stream",
     "text": [
      "Случайный лес: доля правильных ответов для обучающей выборки: 0.875\n",
      "Модель переобучена\n"
     ]
    }
   ],
   "source": [
    "#Посмотрим переобучение/недообучение для случайного леса\n",
    "model_forest = joblib.load('model_forest.joblib')\n",
    "predictions_train = model_forest.predict(features_train)\n",
    "predictions_train = pd.Series(predictions_train, index=features_train.index)\n",
    "accuracy_train = accuracy_score(target_train, predictions_train)\n",
    "diff = accuracy_train-fin_accu_forest\n",
    "print('Случайный лес: доля правильных ответов для обучающей выборки:',accuracy_train)\n",
    "if diff > 0:\n",
    "    print('Модель переобучена')\n",
    "else:\n",
    "    if diff < 0:\n",
    "        print('Модель недообучена')"
   ]
  },
  {
   "cell_type": "code",
   "execution_count": 18,
   "metadata": {},
   "outputs": [
    {
     "name": "stdout",
     "output_type": "stream",
     "text": [
      "Оптимальная модель: случайный лес\n"
     ]
    }
   ],
   "source": [
    "#Выбираем оптимальную модель\n",
    "\n",
    "if fin_accu_forest >= fin_accu_tree:\n",
    "    best_model = model_forest #joblib.load('model_forest.joblib')\n",
    "    title = 'случайный лес'\n",
    "else:\n",
    "    best_model = model_tree #joblib.load('model_tree.joblib')\n",
    "    title = 'решающее дерево'\n",
    "\n",
    "print('Оптимальная модель:',title)"
   ]
  },
  {
   "cell_type": "markdown",
   "metadata": {},
   "source": [
    "### Выводы по шагу 3\n",
    "\n",
    "У нас задача классификации (0/1), потому используем для предсказаний классификационные алгоритмы обучения модели: решающее дерево и случайный лес.\n",
    "1. Обучили модель model_tree на обучающей выборке с помощью алгоритма \"решающее дерево\". \n",
    "    * Перебором в цикле гиперпараметра \"глубина дерева\" подобрали оптимальный, при котором при проверке модели на валидной выборке доля правильных ответов (accuracy) будет максимальной. В нашем случае для решающего дерева оптимальной будет глубина дерева, равная 3. В этом случае доля правильных ответов составит 0.785.\n",
    "    * Помимо доли правильных ответов посчитали другие метрики качества: точность (0.721) и полноту (0.439)\n",
    "    * Посчитали долю правильных ответов модели на обучающей выборке: 0.807. Модель переобучена.\n",
    "    \n",
    "    \n",
    "2. Обучили модель model_forest на обучающей выборке с помощью алгоритма \"случайный лес\". \n",
    "    * Перебором в циклах гиперпараметров \"глубина дерева\" и \"количество деревьев\" подобрали оптимальные, при которых при проверке модели на валидной выборке доля правильных будет максимальной. В нашем случае для случайного леса оптимальными будут количество деревьев, равное 40, и глубина дерева, равная 8. В этом случае доля правильных ответов составит 0.808.\n",
    "    * Помимо доли правильных ответов посчитали другие метрики качества: точность (0.775) и полноту (0.492)\n",
    "    * Посчитали долю правильных ответов модели на обучающей выборке: 0.875. Модель переобучена.\n",
    "    \n",
    "    \n",
    "3. Обе модели - и решающее дерево, и случайный лес, удовлетворяют начальному требованию, что accuracy должна быть не менее 0.75. Но модель \"случайный лес\" более качественная - у нее доля правильных ответов (а также точность и полнота) больше, чем у модели \"решающее дерево\" (0.808 против 0.785), поэтому для тестовой выборки будем использовать модель \"случайный лес\". Хоть она и считается более медленной, чем \"дерево решений\", но в данном проекте у нас нет требований по скорости модели."
   ]
  },
  {
   "cell_type": "markdown",
   "metadata": {},
   "source": [
    "## 4. Проверяем модель на тестовой выборке"
   ]
  },
  {
   "cell_type": "code",
   "execution_count": 19,
   "metadata": {},
   "outputs": [
    {
     "name": "stdout",
     "output_type": "stream",
     "text": [
      "Максимальная доля правильных ответов для тестовой выборки: 0.7962674961119751\n"
     ]
    }
   ],
   "source": [
    "# проверяем модель на тестовой выборке\n",
    "predictions_test = best_model.predict(features_test)\n",
    "predictions_test = pd.Series(predictions_test, index=features_test.index)\n",
    "accuracy_test = accuracy_score(target_test, predictions_test)\n",
    "print('Максимальная доля правильных ответов для тестовой выборки:',accuracy_test)"
   ]
  },
  {
   "cell_type": "code",
   "execution_count": 20,
   "metadata": {},
   "outputs": [
    {
     "name": "stdout",
     "output_type": "stream",
     "text": [
      "Точность для тестовой выборки: 0.75\n",
      "Полнота для тестовой выборки: 0.5320197044334976\n"
     ]
    }
   ],
   "source": [
    "# проверка точности и полноты модели на тестовой выборке\n",
    "print('Точность для тестовой выборки:',precision_score(target_test, predictions_test, average='binary'))\n",
    "print('Полнота для тестовой выборки:',recall_score(target_test, predictions_test, average='binary'))"
   ]
  },
  {
   "cell_type": "markdown",
   "metadata": {},
   "source": [
    "### Выводы по шагу 4\n",
    "Проверили качество модели \"случайный лес\" на тестовой выборке. \n",
    "Доля правильных ответов составила 0.796, что соответствует начальному требованию (accuracy не менее 0.75). \n",
    "Также замерили другие метрики качества: точность (0.75) и полноту (0.532)."
   ]
  },
  {
   "cell_type": "markdown",
   "metadata": {},
   "source": [
    "## 5. Проверяем модели на адекватность"
   ]
  },
  {
   "cell_type": "code",
   "execution_count": 21,
   "metadata": {},
   "outputs": [
    {
     "data": {
      "text/plain": [
       "1386    0\n",
       "3124    0\n",
       "1956    0\n",
       "2286    0\n",
       "3077    0\n",
       "       ..\n",
       "1999    1\n",
       "1023    0\n",
       "748     0\n",
       "1667    0\n",
       "3197    0\n",
       "Length: 643, dtype: int64"
      ]
     },
     "execution_count": 21,
     "metadata": {},
     "output_type": "execute_result"
    }
   ],
   "source": [
    "# Создадим предсказания, где тариф предсказывается случайным образом (1 - Ультра или 0 - Смарт)\n",
    "predictions_valid_random = pd.Series(np.random.randint(2,size=len(features_valid)), index=features_valid.index)\n",
    "predictions_valid_random"
   ]
  },
  {
   "cell_type": "code",
   "execution_count": 22,
   "metadata": {},
   "outputs": [
    {
     "name": "stdout",
     "output_type": "stream",
     "text": [
      "Доля правильных ответов для случайной модели для валидной выборки: 0.49611197511664074\n"
     ]
    }
   ],
   "source": [
    "# Доля правильных ответов для случайной модели для валидной выборки\n",
    "accuracy_random = accuracy_score(target_valid, predictions_valid_random)\n",
    "print('Доля правильных ответов для случайной модели для валидной выборки:',accuracy_random)"
   ]
  },
  {
   "cell_type": "code",
   "execution_count": 23,
   "metadata": {},
   "outputs": [
    {
     "name": "stdout",
     "output_type": "stream",
     "text": [
      "Наша модель решающего дерева вполне адекватна: 0.7853810264385692 > 0.49611197511664074\n"
     ]
    }
   ],
   "source": [
    "# Проверяем на адекватность модель решающего дерева\n",
    "if fin_accu_tree <= accuracy_random:\n",
    "    print('Наша модель решающего дерева не в адеквате:',fin_accu_tree,'<=',accuracy_random)\n",
    "else:\n",
    "    print('Наша модель решающего дерева вполне адекватна:',fin_accu_tree,'>',accuracy_random)"
   ]
  },
  {
   "cell_type": "code",
   "execution_count": 24,
   "metadata": {},
   "outputs": [
    {
     "name": "stdout",
     "output_type": "stream",
     "text": [
      "Наша модель случайного леса вполне адекватна: 0.8087091757387247 > 0.49611197511664074\n"
     ]
    }
   ],
   "source": [
    "# Проверяем на адекватность модель случайного леса\n",
    "if fin_accu_forest <= accuracy_random:\n",
    "    print('Наша модель случайного леса не в адеквате:',fin_accu_forest,'<=',accuracy_random)\n",
    "else:\n",
    "    print('Наша модель случайного леса вполне адекватна:',fin_accu_forest,'>',accuracy_random)"
   ]
  },
  {
   "cell_type": "markdown",
   "metadata": {},
   "source": [
    "### Выводы по шагу 5\n",
    "Проверили наши модели на адекватность:\n",
    "1. Создали предсказания для валидационной выборки случайным образом с помощью генератора случайных чисел (0 - Смарт или 1 - Ультра)\n",
    "2. Посчитали для случайной модели accuracy (~ 0.5)\n",
    "3. Сравнили accuracy наших моделей (дерево решений, случайный лес) и случайной. Сравнение оказалось в пользу наших моделей - у них доля правильных ответов больше (0.785 для дерева и 0.808 для леса). Можно считать наши модели более чем адекватными."
   ]
  },
  {
   "cell_type": "markdown",
   "metadata": {},
   "source": [
    "## Общие выводы\n",
    "Все задания проекта выполнены: \n",
    "1. Файл с данными открыт и изучен.\n",
    "2. Исходные данные разделены на обучающую, валидационную и тестовую выборки в пропорции 3:1:1.\n",
    "3. Исследовано качество разных моделей для классификационной задачи (дерево решений, случайный лес) с различными гиперпараметрами.\n",
    "4. Выбрана модель с максимальной долей правильных ответов - случайный лес с количеством деревьев 40 и глубиной дерева 8.\n",
    "5. Качество выбранной модели проверено на тестовой выборке, accuracy = 0.796, что соответствует требованию проекта (accuracy модели должно быть не менее 0.75).\n",
    "6. Дополнительно проверили модели на вменяемость, сравнив их со случайной моделью. Модели доказали свою адекватность.\n",
    "7. Выводы по каждому пункту изложены."
   ]
  },
  {
   "cell_type": "code",
   "execution_count": null,
   "metadata": {},
   "outputs": [],
   "source": []
  }
 ],
 "metadata": {
  "kernelspec": {
   "display_name": "Python 3",
   "language": "python",
   "name": "python3"
  },
  "language_info": {
   "codemirror_mode": {
    "name": "ipython",
    "version": 3
   },
   "file_extension": ".py",
   "mimetype": "text/x-python",
   "name": "python",
   "nbconvert_exporter": "python",
   "pygments_lexer": "ipython3",
   "version": "3.7.8"
  }
 },
 "nbformat": 4,
 "nbformat_minor": 2
}
